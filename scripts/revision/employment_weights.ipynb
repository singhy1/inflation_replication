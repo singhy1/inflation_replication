{
 "cells": [
  {
   "cell_type": "code",
   "execution_count": 16,
   "id": "23e07389",
   "metadata": {},
   "outputs": [],
   "source": [
    "import numpy as np\n",
    "import pandas as pd \n",
    "from sklearn.linear_model import LinearRegression"
   ]
  },
  {
   "cell_type": "code",
   "execution_count": 17,
   "id": "dd7a38fd",
   "metadata": {},
   "outputs": [],
   "source": [
    "# Specify directories \n",
    "data_dir = \"C:/Users/singhy/Desktop/Chicago/cps_data/inflation/raw_data\"\n",
    "output_dir = \"C:/Users/singhy/Desktop/Chicago/cps_data/inflation/output\"\n",
    "temp_dir = \"C:/Users/singhy/Desktop/Chicago/cps_data/inflation/temp\""
   ]
  },
  {
   "cell_type": "code",
   "execution_count": 18,
   "id": "0e2ee223",
   "metadata": {},
   "outputs": [],
   "source": [
    "\n",
    "df = pd.read_excel(f\"{data_dir}/employment_by_industry/hours-employment-detailed-industries.xlsx\", sheet_name=\"MachineReadable\")\n"
   ]
  },
  {
   "cell_type": "code",
   "execution_count": 19,
   "id": "7a08e6cf",
   "metadata": {},
   "outputs": [],
   "source": [
    "# Sample Selection \n",
    "\n",
    "# Year (2016-2019)\n",
    "df= df[(df[\"Year\"] >= 2016) & (df['Year'] <= 2019)]\n",
    "\n",
    "# Measure \n",
    "df = df[df['Measure'] == \"Employment\"]\n",
    "\n",
    "# Units \n",
    "df = df[df['Units'] == \"Thousands of jobs\"]\n",
    "\n",
    "# mapping based on 4 digit NAICS sectors \n",
    "df = df[df['Digit'] == \"4-Digit\"]"
   ]
  },
  {
   "cell_type": "code",
   "execution_count": 20,
   "id": "ba1d82ba",
   "metadata": {},
   "outputs": [],
   "source": [
    "def map_naics_code_to_industry(naics_code):\n",
    "    \"\"\"\n",
    "    Map NAICS 4- or 2-digit code to a JOLTS industry category.\n",
    "    \"\"\"\n",
    "    naics_str = str(naics_code).zfill(4)  # Pad to 4 digits\n",
    "    naics_4 = int(naics_str[:4])\n",
    "    naics_2 = int(naics_str[:2])\n",
    "\n",
    "    # Priority mapping for specific 4-digit codes\n",
    "    four_digit_map = {\n",
    "        1133: \"Mining and Logging\",\n",
    "        321: \"Durable Goods Manufacturing\",\n",
    "        327: \"Durable Goods Manufacturing\",\n",
    "        322: \"Nondurable Goods Manufacturing\",\n",
    "        323: \"Nondurable Goods Manufacturing\",\n",
    "        324: \"Nondurable Goods Manufacturing\",\n",
    "        325: \"Nondurable Goods Manufacturing\",\n",
    "        326: \"Nondurable Goods Manufacturing\",\n",
    "    }\n",
    "\n",
    "    # General 2-digit NAICS to JOLTS sector\n",
    "    two_digit_map = {\n",
    "        21: \"Mining and Logging\",\n",
    "        22: \"Utilities\",\n",
    "        23: \"Construction\",\n",
    "        31: \"Nondurable Goods Manufacturing\",\n",
    "        32: \"Nondurable Goods Manufacturing\",\n",
    "        33: \"Durable Goods Manufacturing\",\n",
    "        42: \"Wholesale Trade\",\n",
    "        44: \"Retail Trade\",\n",
    "        45: \"Retail Trade\",\n",
    "        48: \"Transportation and Warehousing\",\n",
    "        49: \"Transportation and Warehousing\",\n",
    "        51: \"Information\",\n",
    "        52: \"Finance and Insurance\",\n",
    "        53: \"Real Estate and Rental and Leasing\",\n",
    "        54: \"Professional and Business Services\",\n",
    "        55: \"Professional and Business Services\",\n",
    "        56: \"Administrative and support and waste management\",\n",
    "        61: \"Private Educational Services\",\n",
    "        62: \"Health Care and Social Assistance\",\n",
    "        71: \"Arts, Entertainment, and Recreation\",\n",
    "        72: \"Accommodation and Food Services\",\n",
    "        81: \"Other Services\",\n",
    "    }\n",
    "\n",
    "    # Try 4-digit first, fallback to 2-digit\n",
    "    return four_digit_map.get(naics_4, two_digit_map.get(naics_2, \"Unknown\"))\n",
    "\n"
   ]
  },
  {
   "cell_type": "code",
   "execution_count": 21,
   "id": "8f3a5478",
   "metadata": {},
   "outputs": [],
   "source": [
    "df['industry'] = df['NAICS'].apply(map_naics_code_to_industry)"
   ]
  },
  {
   "cell_type": "code",
   "execution_count": 22,
   "id": "d757e23c",
   "metadata": {},
   "outputs": [],
   "source": [
    "def map_to_jolts_industry(industry):\n",
    "    \"\"\"\n",
    "    Maps detailed industry labels to standardized JOLTS industry labels.\n",
    "    \"\"\"\n",
    "    mapping = {\n",
    "        'Accommodation and Food Services': 'Accomodation and food services',\n",
    "        'Arts, Entertainment, and Recreation': 'Arts, entertainment, and recreation',\n",
    "        'Construction': 'Construction',\n",
    "        'Durable Goods Manufacturing': 'Durable goods manufacturing',\n",
    "        'Finance and Insurance': 'Finance and insurance',\n",
    "        'Health Care and Social Assistance': 'Healthcare and Social Assistance',\n",
    "        'Information': 'Information',\n",
    "        'Mining and Logging': 'Mining and logging',\n",
    "        'Nondurable Goods Manufacturing': 'Nondurable goods manufacturing',\n",
    "        'Other Services': 'Other services',\n",
    "        'Private Educational Services': 'Private education services',\n",
    "        'Professional and Business Services': 'Professional and business services',\n",
    "        'Real Estate and Rental and Leasing': 'Real estate and rental and leasing',\n",
    "        'Retail Trade': 'Retail trade',\n",
    "        'Transportation and Warehousing': 'Transportation, warehousing, and utilities',\n",
    "        'Utilities': 'Transportation, warehousing, and utilities',  # grouped in JOLTS\n",
    "        'Wholesale Trade': 'Wholesale trade',\n",
    "        'Administrative and support and waste management': 'Professional and business services',  # subcategory of sector 56\n",
    "        'Unknown': 'Unknown'  # or could be np.nan if you want to drop/mask it\n",
    "    }\n",
    "\n",
    "    return mapping.get(industry, 'Unknown')\n"
   ]
  },
  {
   "cell_type": "code",
   "execution_count": 23,
   "id": "1341bab4",
   "metadata": {},
   "outputs": [],
   "source": [
    "df = df[df['industry'] != \"Unknown\"]"
   ]
  },
  {
   "cell_type": "code",
   "execution_count": 24,
   "id": "159c27b7",
   "metadata": {},
   "outputs": [],
   "source": [
    "df['jolts_industry'] = df['industry'].apply(map_to_jolts_industry)\n"
   ]
  },
  {
   "cell_type": "code",
   "execution_count": 25,
   "id": "9302e892",
   "metadata": {},
   "outputs": [],
   "source": [
    "df = df.groupby(['Year', 'jolts_industry'], as_index=False)['Value'].sum()"
   ]
  },
  {
   "cell_type": "code",
   "execution_count": 26,
   "id": "d327bdb8",
   "metadata": {},
   "outputs": [],
   "source": [
    "total_emp_per_year = df.groupby('Year')['Value'].transform('sum')\n",
    "df['emp_share'] = df['Value'] / total_emp_per_year\n"
   ]
  },
  {
   "cell_type": "code",
   "execution_count": 27,
   "id": "23ea2a53",
   "metadata": {},
   "outputs": [],
   "source": [
    "df = df.groupby('jolts_industry', as_index=False)['emp_share'].mean()"
   ]
  },
  {
   "cell_type": "code",
   "execution_count": 29,
   "id": "fbdf8bdf",
   "metadata": {},
   "outputs": [],
   "source": [
    "df.to_csv(f\"{temp_dir}/industry_employment_shares.csv\", index = False) "
   ]
  },
  {
   "cell_type": "code",
   "execution_count": null,
   "id": "b0e73d60",
   "metadata": {},
   "outputs": [],
   "source": []
  }
 ],
 "metadata": {
  "kernelspec": {
   "display_name": "base",
   "language": "python",
   "name": "python3"
  },
  "language_info": {
   "codemirror_mode": {
    "name": "ipython",
    "version": 3
   },
   "file_extension": ".py",
   "mimetype": "text/x-python",
   "name": "python",
   "nbconvert_exporter": "python",
   "pygments_lexer": "ipython3",
   "version": "3.10.9"
  }
 },
 "nbformat": 4,
 "nbformat_minor": 5
}
