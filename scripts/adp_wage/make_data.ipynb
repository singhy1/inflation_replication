{
 "cells": [
  {
   "cell_type": "code",
   "execution_count": 1,
   "id": "7c952f0b",
   "metadata": {},
   "outputs": [
    {
     "name": "stderr",
     "output_type": "stream",
     "text": [
      "C:\\Users\\singhy\\AppData\\Local\\anaconda3\\lib\\site-packages\\pandas\\core\\arrays\\masked.py:60: UserWarning: Pandas requires version '1.3.6' or newer of 'bottleneck' (version '1.3.5' currently installed).\n",
      "  from pandas.core import (\n",
      "C:\\Users\\singhy\\AppData\\Local\\Temp\\ipykernel_5776\\118197663.py:2: DeprecationWarning: \n",
      "Pyarrow will become a required dependency of pandas in the next major release of pandas (pandas 3.0),\n",
      "(to allow more performant data types, such as the Arrow string type, and better interoperability with other libraries)\n",
      "but was not found to be installed on your system.\n",
      "If this would cause problems for you,\n",
      "please provide us feedback at https://github.com/pandas-dev/pandas/issues/54466\n",
      "        \n",
      "  import pandas as pd\n"
     ]
    }
   ],
   "source": [
    "import numpy as np \n",
    "import pandas as pd"
   ]
  },
  {
   "cell_type": "code",
   "execution_count": 2,
   "id": "e3a32a39",
   "metadata": {},
   "outputs": [],
   "source": [
    "data_dir = \"C:/Users/singhy/Desktop/Chicago/cps_data/inflation/raw_data\"\n",
    "output_dir = \"C:/Users/singhy/Desktop/Chicago/cps_data/inflation/output\"\n",
    "\n",
    "df = pd.read_csv(f\"{data_dir}/adp/ADP_PAY_history.csv\")\n",
    "cpi = pd.read_csv(f\"{data_dir}/CPI/CPIAUCSL.csv\")\n"
   ]
  },
  {
   "cell_type": "code",
   "execution_count": 56,
   "id": "cf8086b8",
   "metadata": {},
   "outputs": [],
   "source": [
    "temp = df[df['category'] == 'Job Stayer']\n",
    "keep = ['date', 'median pay change']\n",
    "stayer = temp[keep]"
   ]
  },
  {
   "cell_type": "code",
   "execution_count": 57,
   "id": "e0e92053",
   "metadata": {},
   "outputs": [],
   "source": [
    "stayer = stayer.rename(columns={'median pay change':'delta_w_stay'})"
   ]
  },
  {
   "cell_type": "code",
   "execution_count": 58,
   "id": "4977c41a",
   "metadata": {},
   "outputs": [],
   "source": [
    "temp = df[df['category'] == 'Job Changer']\n",
    "keep = ['date', 'median pay change']\n",
    "switcher = temp[keep]\n",
    "switcher = switcher.rename(columns={'median pay change':'delta_w_switch'})"
   ]
  },
  {
   "cell_type": "code",
   "execution_count": 59,
   "id": "ae1c56a4",
   "metadata": {},
   "outputs": [],
   "source": [
    "data = switcher.merge(stayer, on=['date'])"
   ]
  },
  {
   "cell_type": "code",
   "execution_count": 60,
   "id": "b3bde560",
   "metadata": {},
   "outputs": [],
   "source": [
    "data['date'] = pd.to_datetime(data['date'])"
   ]
  },
  {
   "cell_type": "code",
   "execution_count": 61,
   "id": "6add301c",
   "metadata": {},
   "outputs": [],
   "source": [
    "data['diff'] = data['delta_w_switch'] - data['delta_w_stay']"
   ]
  },
  {
   "cell_type": "code",
   "execution_count": 62,
   "id": "dd84c534",
   "metadata": {},
   "outputs": [],
   "source": [
    "\n",
    "cpi = cpi.iloc[10:].reset_index(drop=True)\n",
    "\n",
    "cpi = cpi.rename(columns={\n",
    "                            'observation_date': 'date', \n",
    "                            'CPIAUCSL':               'P'\n",
    "})\n",
    "\n",
    "cpi['date'] = pd.to_datetime(cpi['date'])\n",
    "cpi['P'] = pd.to_numeric(cpi['P'], errors='coerce')\n",
    "cpi['P_12m_change'] = cpi['P'].pct_change(periods=12) * 100"
   ]
  },
  {
   "cell_type": "code",
   "execution_count": 63,
   "id": "d7badfb9",
   "metadata": {},
   "outputs": [],
   "source": [
    "data = data.merge(cpi, on =['date'])"
   ]
  },
  {
   "cell_type": "code",
   "execution_count": 64,
   "id": "a40d6e3d",
   "metadata": {},
   "outputs": [],
   "source": [
    "data.to_csv(f\"{output_dir}/data/adp_wage.csv\", index = False )"
   ]
  },
  {
   "cell_type": "code",
   "execution_count": null,
   "id": "82869688",
   "metadata": {},
   "outputs": [],
   "source": []
  }
 ],
 "metadata": {
  "kernelspec": {
   "display_name": "Python 3 (ipykernel)",
   "language": "python",
   "name": "python3"
  },
  "language_info": {
   "codemirror_mode": {
    "name": "ipython",
    "version": 3
   },
   "file_extension": ".py",
   "mimetype": "text/x-python",
   "name": "python",
   "nbconvert_exporter": "python",
   "pygments_lexer": "ipython3",
   "version": "3.10.9"
  }
 },
 "nbformat": 4,
 "nbformat_minor": 5
}
