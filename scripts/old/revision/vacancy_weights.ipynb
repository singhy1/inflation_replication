{
 "cells": [
  {
   "cell_type": "code",
   "execution_count": 54,
   "id": "1e2f3ae1",
   "metadata": {},
   "outputs": [],
   "source": [
    "import numpy as np\n",
    "import pandas as pd \n",
    "from sklearn.linear_model import LinearRegression\n",
    "import json "
   ]
  },
  {
   "cell_type": "code",
   "execution_count": 55,
   "id": "bbc357c6",
   "metadata": {},
   "outputs": [],
   "source": [
    "\n",
    "# Specify directories \n",
    "data_dir = \"C:/Users/singhy/Desktop/Chicago/cps_data/inflation/raw_data\"\n",
    "output_dir = \"C:/Users/singhy/Desktop/Chicago/cps_data/inflation/output\"\n",
    "temp_dir = \"C:/Users/singhy/Desktop/Chicago/cps_data/inflation/temp\""
   ]
  },
  {
   "cell_type": "code",
   "execution_count": 56,
   "id": "89958d20",
   "metadata": {},
   "outputs": [
    {
     "name": "stderr",
     "output_type": "stream",
     "text": [
      "c:\\Users\\singhy\\AppData\\Local\\anaconda3\\lib\\site-packages\\openpyxl\\styles\\stylesheet.py:226: UserWarning: Workbook contains no default style, apply openpyxl's default\n",
      "  warn(\"Workbook contains no default style, apply openpyxl's default\")\n"
     ]
    }
   ],
   "source": [
    "df_raw = pd.read_excel(f\"{data_dir}/JOLTS/jolts_industry_level.xlsx\", skiprows=2)"
   ]
  },
  {
   "cell_type": "code",
   "execution_count": 57,
   "id": "7292b796",
   "metadata": {},
   "outputs": [],
   "source": [
    "\n",
    "# Extract header and reformat\n",
    "new_header = df_raw.iloc[0]\n",
    "df_clean = df_raw[1:]\n",
    "df_clean.columns = new_header\n",
    "df_clean = df_clean.rename(columns={df_clean.columns[0]: \"seriesid\"})\n",
    "df_clean.columns = df_clean.columns.astype(str)"
   ]
  },
  {
   "cell_type": "code",
   "execution_count": 58,
   "id": "d64acb37",
   "metadata": {},
   "outputs": [],
   "source": [
    "# Reshape and clean\n",
    "df_long = df_clean.melt(id_vars=[\"seriesid\"], var_name=\"date\", value_name=\"value\")\n",
    "df_long[\"date\"] = df_long[\"date\"].str.replace(\"\\n\", \" \").str.strip()\n",
    "df_long[\"date\"] = pd.to_datetime(df_long[\"date\"], format=\"%b %Y\", errors=\"coerce\")\n",
    "df_long = df_long.dropna(subset=[\"date\", \"value\"])\n",
    "df_long = df_long.sort_values(by=[\"seriesid\", \"date\"]).reset_index(drop=True)\n",
    "\n",
    "# Extract codes from seriesid\n",
    "df_long[\"industry_code\"] = df_long[\"seriesid\"].str[3:11]\n",
    "df_long[\"flow_type_code\"] = df_long[\"seriesid\"].str[-3:]\n",
    "\n",
    "# Get unique codes\n",
    "industry_codes = df_long[\"industry_code\"].unique()\n",
    "flow_type_codes = df_long[\"flow_type_code\"].unique()\n",
    "\n",
    "industry_codes, flow_type_codes\n",
    "\n",
    "# Define flow type mapping\n",
    "flow_type_map = {\n",
    "    \"HIL\": \"Hires\",\n",
    "    \"QUL\": \"Quits\",\n",
    "    \"TSL\": \"Total Separations\",\n",
    "    \"JOL\": \"Job Openings\",\n",
    "    \"LDL\": \"Layoffs & Discharges\",\n",
    "    \"UOL\": \"Other Separations\",\n",
    "    \"OSL\": \"Other Separations (Residual)\"\n",
    "}\n",
    "\n",
    "# Define industry code mapping based on BLS JOLTS industry categories\n",
    "industry_map = {\n",
    "    \"00000000\": \"Total nonfarm\",\n",
    "    \"10000000\": \"Total private\",\n",
    "    \"11009900\": \"Mining and logging\",\n",
    "    \"23000000\": \"Construction\",\n",
    "    \"30000000\": \"Manufacturing\",\n",
    "    \"32000000\": \"Durable goods manufacturing\",\n",
    "    \"34000000\": \"Nondurable goods manufacturing\",\n",
    "    \"40000000\": \"Trade, transportation, and utilities\",\n",
    "    \"42000000\": \"Wholesale trade\",\n",
    "    \"44000000\": \"Retail trade\",\n",
    "    \"48009900\": \"Transportation, warehousing, and utilities\",\n",
    "    \"51000000\": \"Information\",\n",
    "    \"51009900\": \"Financial activities\",\n",
    "    \"52000000\": \"Finance and insurance\",\n",
    "    \"53000000\": \"Real estate and rental and leasing\",\n",
    "    \"54009900\": \"Professional and business services\",\n",
    "    \"60000000\": \"Private education and health services\", \n",
    "    \"61000000\": \"Private education services\",\n",
    "    \"62000000\": \"Healthcare and Social Assistance\",\n",
    "    \"70000000\": \"Leisure and Hospitality\",\n",
    "    \"71000000\": \"Arts, entertainment, and recreation\",\n",
    "    \"72000000\": \"Accomodation and food services\",\n",
    "    \"81000000\": \"Other services\",\n",
    "    \"90000000\": \"Government\",\n",
    "    \"91000000\": \"Federal government\",\n",
    "    \"92000000\": \"State and local government\",\n",
    "    \"92300000\": \"State and local government education\",\n",
    "    \"92900000\": \"State and local government, excluding education\"\n",
    "}\n",
    "\n",
    "# Apply mappings\n",
    "df_long[\"flow_type\"] = df_long[\"flow_type_code\"].map(flow_type_map)\n",
    "df_long[\"jolts_industry\"] = df_long[\"industry_code\"].map(industry_map)\n",
    "\n",
    "df_long = df_long.rename(columns={\n",
    "    'value': 'level',\n",
    "})\n"
   ]
  },
  {
   "cell_type": "code",
   "execution_count": 101,
   "id": "96c45c8c",
   "metadata": {},
   "outputs": [],
   "source": [
    "df = df_long"
   ]
  },
  {
   "cell_type": "code",
   "execution_count": 102,
   "id": "d165707d",
   "metadata": {},
   "outputs": [],
   "source": [
    "# List of industries to keep\n",
    "industries_to_keep = [\n",
    "    \"Accomodation and food services\",\n",
    "    \"Arts, entertainment, and recreation\",\n",
    "    \"Construction\",\n",
    "    \"Durable goods manufacturing\",\n",
    "    \"Finance and insurance\",\n",
    "    \"Healthcare and Social Assistance\",\n",
    "    \"Information\",\n",
    "    \"Mining and logging\",\n",
    "    \"Nondurable goods manufacturing\",\n",
    "    \"Other services\",\n",
    "    \"Private education services\",\n",
    "    \"Professional and business services\",\n",
    "    \"Real estate and rental and leasing\",\n",
    "    \"Retail trade\",\n",
    "    \"Transportation, warehousing, and utilities\",\n",
    "    \"Wholesale trade\"\n",
    "]\n",
    "\n",
    "# Filter the DataFrame\n",
    "df = df[df['jolts_industry'].isin(industries_to_keep)].copy()\n"
   ]
  },
  {
   "cell_type": "code",
   "execution_count": 103,
   "id": "eab869d7",
   "metadata": {},
   "outputs": [],
   "source": [
    "df['year'] = df['date'].dt.year"
   ]
  },
  {
   "cell_type": "code",
   "execution_count": 104,
   "id": "e8c9f4b1",
   "metadata": {},
   "outputs": [],
   "source": [
    "df = df[df['flow_type'].isin(['Job Openings'])].copy()"
   ]
  },
  {
   "cell_type": "code",
   "execution_count": 105,
   "id": "906e46ae",
   "metadata": {},
   "outputs": [],
   "source": [
    "df = df.groupby(['year', 'jolts_industry'], as_index=False)['level'].sum()\n"
   ]
  },
  {
   "cell_type": "code",
   "execution_count": 106,
   "id": "0549b84c",
   "metadata": {},
   "outputs": [],
   "source": [
    "exclude_keywords = ['government', 'Total']\n",
    "\n",
    "# Filter to keep only industries that do NOT contain any exclude keywords\n",
    "df = df[~df['jolts_industry'].str.contains('|'.join(exclude_keywords), case=False)]"
   ]
  },
  {
   "cell_type": "code",
   "execution_count": 107,
   "id": "64c835bc",
   "metadata": {},
   "outputs": [],
   "source": [
    "df['tot'] = df.groupby(['year'])['level'].transform('sum')"
   ]
  },
  {
   "cell_type": "code",
   "execution_count": 108,
   "id": "0b6268b3",
   "metadata": {},
   "outputs": [],
   "source": [
    "df['vac_share'] = df['level']/df['tot']"
   ]
  },
  {
   "cell_type": "code",
   "execution_count": 109,
   "id": "1bc12120",
   "metadata": {},
   "outputs": [],
   "source": [
    "df = df[df['year'] <= 2019]"
   ]
  },
  {
   "cell_type": "code",
   "execution_count": 110,
   "id": "836e0b29",
   "metadata": {},
   "outputs": [],
   "source": [
    "industry_avg = df.groupby('jolts_industry', as_index=False)['vac_share'].mean()\n"
   ]
  },
  {
   "cell_type": "code",
   "execution_count": 113,
   "id": "e9207896",
   "metadata": {},
   "outputs": [
    {
     "data": {
      "text/html": [
       "<div>\n",
       "<style scoped>\n",
       "    .dataframe tbody tr th:only-of-type {\n",
       "        vertical-align: middle;\n",
       "    }\n",
       "\n",
       "    .dataframe tbody tr th {\n",
       "        vertical-align: top;\n",
       "    }\n",
       "\n",
       "    .dataframe thead th {\n",
       "        text-align: right;\n",
       "    }\n",
       "</style>\n",
       "<table border=\"1\" class=\"dataframe\">\n",
       "  <thead>\n",
       "    <tr style=\"text-align: right;\">\n",
       "      <th></th>\n",
       "      <th>jolts_industry</th>\n",
       "      <th>vac_share</th>\n",
       "    </tr>\n",
       "  </thead>\n",
       "  <tbody>\n",
       "    <tr>\n",
       "      <th>0</th>\n",
       "      <td>Accomodation and food services</td>\n",
       "      <td>0.133022</td>\n",
       "    </tr>\n",
       "    <tr>\n",
       "      <th>1</th>\n",
       "      <td>Arts, entertainment, and recreation</td>\n",
       "      <td>0.01766</td>\n",
       "    </tr>\n",
       "    <tr>\n",
       "      <th>2</th>\n",
       "      <td>Construction</td>\n",
       "      <td>0.041271</td>\n",
       "    </tr>\n",
       "    <tr>\n",
       "      <th>3</th>\n",
       "      <td>Durable goods manufacturing</td>\n",
       "      <td>0.040687</td>\n",
       "    </tr>\n",
       "    <tr>\n",
       "      <th>4</th>\n",
       "      <td>Finance and insurance</td>\n",
       "      <td>0.047336</td>\n",
       "    </tr>\n",
       "    <tr>\n",
       "      <th>5</th>\n",
       "      <td>Healthcare and Social Assistance</td>\n",
       "      <td>0.184317</td>\n",
       "    </tr>\n",
       "    <tr>\n",
       "      <th>6</th>\n",
       "      <td>Information</td>\n",
       "      <td>0.019554</td>\n",
       "    </tr>\n",
       "    <tr>\n",
       "      <th>7</th>\n",
       "      <td>Mining and logging</td>\n",
       "      <td>0.004022</td>\n",
       "    </tr>\n",
       "    <tr>\n",
       "      <th>8</th>\n",
       "      <td>Nondurable goods manufacturing</td>\n",
       "      <td>0.027934</td>\n",
       "    </tr>\n",
       "    <tr>\n",
       "      <th>9</th>\n",
       "      <td>Other services</td>\n",
       "      <td>0.041386</td>\n",
       "    </tr>\n",
       "    <tr>\n",
       "      <th>10</th>\n",
       "      <td>Private education services</td>\n",
       "      <td>0.018251</td>\n",
       "    </tr>\n",
       "    <tr>\n",
       "      <th>11</th>\n",
       "      <td>Professional and business services</td>\n",
       "      <td>0.201896</td>\n",
       "    </tr>\n",
       "    <tr>\n",
       "      <th>12</th>\n",
       "      <td>Real estate and rental and leasing</td>\n",
       "      <td>0.015274</td>\n",
       "    </tr>\n",
       "    <tr>\n",
       "      <th>13</th>\n",
       "      <td>Retail trade</td>\n",
       "      <td>0.131477</td>\n",
       "    </tr>\n",
       "    <tr>\n",
       "      <th>14</th>\n",
       "      <td>Transportation, warehousing, and utilities</td>\n",
       "      <td>0.042211</td>\n",
       "    </tr>\n",
       "    <tr>\n",
       "      <th>15</th>\n",
       "      <td>Wholesale trade</td>\n",
       "      <td>0.033702</td>\n",
       "    </tr>\n",
       "  </tbody>\n",
       "</table>\n",
       "</div>"
      ],
      "text/plain": [
       "                                jolts_industry vac_share\n",
       "0               Accomodation and food services  0.133022\n",
       "1          Arts, entertainment, and recreation   0.01766\n",
       "2                                 Construction  0.041271\n",
       "3                  Durable goods manufacturing  0.040687\n",
       "4                        Finance and insurance  0.047336\n",
       "5             Healthcare and Social Assistance  0.184317\n",
       "6                                  Information  0.019554\n",
       "7                           Mining and logging  0.004022\n",
       "8               Nondurable goods manufacturing  0.027934\n",
       "9                               Other services  0.041386\n",
       "10                  Private education services  0.018251\n",
       "11          Professional and business services  0.201896\n",
       "12          Real estate and rental and leasing  0.015274\n",
       "13                                Retail trade  0.131477\n",
       "14  Transportation, warehousing, and utilities  0.042211\n",
       "15                             Wholesale trade  0.033702"
      ]
     },
     "execution_count": 113,
     "metadata": {},
     "output_type": "execute_result"
    }
   ],
   "source": [
    "industry_avg"
   ]
  },
  {
   "cell_type": "code",
   "execution_count": 114,
   "id": "d6539f5b",
   "metadata": {},
   "outputs": [],
   "source": [
    "industry_avg.to_csv(f\"{temp_dir}/industry_vacancy_shares.csv\", index = False) "
   ]
  },
  {
   "cell_type": "code",
   "execution_count": null,
   "id": "f85b0564",
   "metadata": {},
   "outputs": [],
   "source": []
  }
 ],
 "metadata": {
  "kernelspec": {
   "display_name": "base",
   "language": "python",
   "name": "python3"
  },
  "language_info": {
   "codemirror_mode": {
    "name": "ipython",
    "version": 3
   },
   "file_extension": ".py",
   "mimetype": "text/x-python",
   "name": "python",
   "nbconvert_exporter": "python",
   "pygments_lexer": "ipython3",
   "version": "3.10.9"
  }
 },
 "nbformat": 4,
 "nbformat_minor": 5
}
