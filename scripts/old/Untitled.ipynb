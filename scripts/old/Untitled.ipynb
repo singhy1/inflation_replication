{
 "cells": [
  {
   "cell_type": "code",
   "execution_count": 3,
   "id": "9cd4d119",
   "metadata": {},
   "outputs": [],
   "source": [
    "import pandas as pd"
   ]
  },
  {
   "cell_type": "code",
   "execution_count": 6,
   "id": "e027308e",
   "metadata": {},
   "outputs": [],
   "source": [
    "data = pd.read_csv(r'C:\\Users\\singhy\\Desktop\\Chicago\\cps_data\\inflation\\raw_data\\jt.data.6.LayoffsDischarges')"
   ]
  },
  {
   "cell_type": "code",
   "execution_count": 8,
   "id": "86ce87bb",
   "metadata": {},
   "outputs": [
    {
     "data": {
      "text/html": [
       "<div>\n",
       "<style scoped>\n",
       "    .dataframe tbody tr th:only-of-type {\n",
       "        vertical-align: middle;\n",
       "    }\n",
       "\n",
       "    .dataframe tbody tr th {\n",
       "        vertical-align: top;\n",
       "    }\n",
       "\n",
       "    .dataframe thead th {\n",
       "        text-align: right;\n",
       "    }\n",
       "</style>\n",
       "<table border=\"1\" class=\"dataframe\">\n",
       "  <thead>\n",
       "    <tr style=\"text-align: right;\">\n",
       "      <th></th>\n",
       "      <th>series_id                     \\tyear\\tperiod\\t       value\\tfootnote_codes</th>\n",
       "    </tr>\n",
       "  </thead>\n",
       "  <tbody>\n",
       "    <tr>\n",
       "      <th>0</th>\n",
       "      <td>JTS000000000000000LDL         \\t2000\\tM12\\t   ...</td>\n",
       "    </tr>\n",
       "    <tr>\n",
       "      <th>1</th>\n",
       "      <td>JTS000000000000000LDL         \\t2001\\tM01\\t   ...</td>\n",
       "    </tr>\n",
       "    <tr>\n",
       "      <th>2</th>\n",
       "      <td>JTS000000000000000LDL         \\t2001\\tM02\\t   ...</td>\n",
       "    </tr>\n",
       "    <tr>\n",
       "      <th>3</th>\n",
       "      <td>JTS000000000000000LDL         \\t2001\\tM03\\t   ...</td>\n",
       "    </tr>\n",
       "    <tr>\n",
       "      <th>4</th>\n",
       "      <td>JTS000000000000000LDL         \\t2001\\tM04\\t   ...</td>\n",
       "    </tr>\n",
       "    <tr>\n",
       "      <th>...</th>\n",
       "      <td>...</td>\n",
       "    </tr>\n",
       "    <tr>\n",
       "      <th>104713</th>\n",
       "      <td>JTU929000000000000LDR         \\t2024\\tM03\\t   ...</td>\n",
       "    </tr>\n",
       "    <tr>\n",
       "      <th>104714</th>\n",
       "      <td>JTU929000000000000LDR         \\t2024\\tM04\\t   ...</td>\n",
       "    </tr>\n",
       "    <tr>\n",
       "      <th>104715</th>\n",
       "      <td>JTU929000000000000LDR         \\t2024\\tM05\\t   ...</td>\n",
       "    </tr>\n",
       "    <tr>\n",
       "      <th>104716</th>\n",
       "      <td>JTU929000000000000LDR         \\t2024\\tM06\\t   ...</td>\n",
       "    </tr>\n",
       "    <tr>\n",
       "      <th>104717</th>\n",
       "      <td>JTU929000000000000LDR         \\t2024\\tM07\\t   ...</td>\n",
       "    </tr>\n",
       "  </tbody>\n",
       "</table>\n",
       "<p>104718 rows × 1 columns</p>\n",
       "</div>"
      ],
      "text/plain": [
       "       series_id                     \\tyear\\tperiod\\t       value\\tfootnote_codes\n",
       "0       JTS000000000000000LDL         \\t2000\\tM12\\t   ...                        \n",
       "1       JTS000000000000000LDL         \\t2001\\tM01\\t   ...                        \n",
       "2       JTS000000000000000LDL         \\t2001\\tM02\\t   ...                        \n",
       "3       JTS000000000000000LDL         \\t2001\\tM03\\t   ...                        \n",
       "4       JTS000000000000000LDL         \\t2001\\tM04\\t   ...                        \n",
       "...                                                   ...                        \n",
       "104713  JTU929000000000000LDR         \\t2024\\tM03\\t   ...                        \n",
       "104714  JTU929000000000000LDR         \\t2024\\tM04\\t   ...                        \n",
       "104715  JTU929000000000000LDR         \\t2024\\tM05\\t   ...                        \n",
       "104716  JTU929000000000000LDR         \\t2024\\tM06\\t   ...                        \n",
       "104717  JTU929000000000000LDR         \\t2024\\tM07\\t   ...                        \n",
       "\n",
       "[104718 rows x 1 columns]"
      ]
     },
     "execution_count": 8,
     "metadata": {},
     "output_type": "execute_result"
    }
   ],
   "source": [
    "data"
   ]
  },
  {
   "cell_type": "code",
   "execution_count": null,
   "id": "b7174bfb",
   "metadata": {},
   "outputs": [],
   "source": [
    "series_metadata = pd.read_csv('path_to_your_file/jt.series', sep='\\t')\n",
    "print(series_metadata.head())\n"
   ]
  }
 ],
 "metadata": {
  "kernelspec": {
   "display_name": "Python 3 (ipykernel)",
   "language": "python",
   "name": "python3"
  },
  "language_info": {
   "codemirror_mode": {
    "name": "ipython",
    "version": 3
   },
   "file_extension": ".py",
   "mimetype": "text/x-python",
   "name": "python",
   "nbconvert_exporter": "python",
   "pygments_lexer": "ipython3",
   "version": "3.10.9"
  }
 },
 "nbformat": 4,
 "nbformat_minor": 5
}
