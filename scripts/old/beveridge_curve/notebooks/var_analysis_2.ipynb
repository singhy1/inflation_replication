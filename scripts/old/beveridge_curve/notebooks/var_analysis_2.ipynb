{
 "cells": [
  {
   "cell_type": "code",
   "execution_count": 2,
   "id": "5ca643dd",
   "metadata": {},
   "outputs": [],
   "source": [
    "import pandas as pd\n",
    "from statsmodels.tsa.api import VAR"
   ]
  },
  {
   "cell_type": "code",
   "execution_count": 3,
   "id": "8cc89d87",
   "metadata": {},
   "outputs": [],
   "source": [
    "# specify your outputs diretory \n",
    "output_dir = \"C:/Users/singhy/Desktop/Chicago/cps_data/inflation/output\"\n",
    "\n",
    "# dataset \n",
    "data = pd.read_csv(f\"{output_dir}/data/historical_data.csv\")\n",
    "data['date'] = pd.to_datetime(data['date']) "
   ]
  },
  {
   "cell_type": "code",
   "execution_count": 4,
   "id": "0371eb57",
   "metadata": {},
   "outputs": [
    {
     "name": "stdout",
     "output_type": "stream",
     "text": [
      "A_1 matrix:\n",
      "                  P_12m_change    U_rate  ln_tightness\n",
      "const               -0.123727  0.407636     -0.067487\n",
      "L1.P_12m_change      1.362399 -0.058589      0.012316\n",
      "L1.U_rate            0.030379  0.891086     -0.052389\n",
      "A_2 matrix:\n",
      "                  P_12m_change    U_rate  ln_tightness\n",
      "L1.ln_tightness      0.076089 -0.607134      0.678896\n",
      "L2.P_12m_change     -0.387865  0.083519     -0.018341\n",
      "L2.U_rate            0.025308 -0.004025      0.071021\n",
      "  Summary of Regression Results   \n",
      "==================================\n",
      "Model:                         VAR\n",
      "Method:                        OLS\n",
      "Date:           Thu, 31, Oct, 2024\n",
      "Time:                     16:02:07\n",
      "--------------------------------------------------------------------\n",
      "No. of Equations:         3.00000    BIC:                   -8.68606\n",
      "Nobs:                     880.000    HQIC:                  -8.75650\n",
      "Log likelihood:           147.057    FPE:                0.000150714\n",
      "AIC:                     -8.80013    Det(Omega_mle):     0.000147174\n",
      "--------------------------------------------------------------------\n",
      "Results for equation P_12m_change\n",
      "==================================================================================\n",
      "                     coefficient       std. error           t-stat            prob\n",
      "----------------------------------------------------------------------------------\n",
      "const                  -0.123727         0.062724           -1.973           0.049\n",
      "L1.P_12m_change         1.362399         0.031050           43.878           0.000\n",
      "L1.U_rate               0.030379         0.037369            0.813           0.416\n",
      "L1.ln_tightness         0.076089         0.129475            0.588           0.557\n",
      "L2.P_12m_change        -0.387865         0.030898          -12.553           0.000\n",
      "L2.U_rate               0.025308         0.036882            0.686           0.493\n",
      "L2.ln_tightness         0.146258         0.132804            1.101           0.271\n",
      "==================================================================================\n",
      "\n",
      "Results for equation U_rate\n",
      "==================================================================================\n",
      "                     coefficient       std. error           t-stat            prob\n",
      "----------------------------------------------------------------------------------\n",
      "const                   0.407636         0.070232            5.804           0.000\n",
      "L1.P_12m_change        -0.058589         0.034767           -1.685           0.092\n",
      "L1.U_rate               0.891086         0.041842           21.296           0.000\n",
      "L1.ln_tightness        -0.607134         0.144974           -4.188           0.000\n",
      "L2.P_12m_change         0.083519         0.034597            2.414           0.016\n",
      "L2.U_rate              -0.004025         0.041297           -0.097           0.922\n",
      "L2.ln_tightness         0.301632         0.148702            2.028           0.043\n",
      "==================================================================================\n",
      "\n",
      "Results for equation ln_tightness\n",
      "==================================================================================\n",
      "                     coefficient       std. error           t-stat            prob\n",
      "----------------------------------------------------------------------------------\n",
      "const                  -0.067487         0.019480           -3.464           0.001\n",
      "L1.P_12m_change         0.012316         0.009643            1.277           0.202\n",
      "L1.U_rate              -0.052389         0.011605           -4.514           0.000\n",
      "L1.ln_tightness         0.678896         0.040210           16.884           0.000\n",
      "L2.P_12m_change        -0.018341         0.009596           -1.911           0.056\n",
      "L2.U_rate               0.071021         0.011454            6.200           0.000\n",
      "L2.ln_tightness         0.356564         0.041244            8.645           0.000\n",
      "==================================================================================\n",
      "\n",
      "Correlation matrix of residuals\n",
      "                P_12m_change    U_rate  ln_tightness\n",
      "P_12m_change        1.000000 -0.088240      0.045173\n",
      "U_rate             -0.088240  1.000000     -0.636233\n",
      "ln_tightness        0.045173 -0.636233      1.000000\n",
      "\n",
      "\n",
      "\n"
     ]
    }
   ],
   "source": [
    "# Select only the relevant columns for VAR\n",
    "data_var = data[['P_12m_change', 'U_rate', 'ln_tightness']]\n",
    "\n",
    "# Specify the VAR model order (lag length)\n",
    "var_order = 2  # Replace 2 with your selected lag order\n",
    "\n",
    "# Fit the VAR model\n",
    "model = VAR(data_var)\n",
    "fitted_model = model.fit(var_order)\n",
    "\n",
    "# Extract estimated A matrices (A1, A2, ..., An)\n",
    "for lag in range(1, var_order + 1):\n",
    "    print(f\"A_{lag} matrix:\\n\", fitted_model.params.iloc[(lag - 1) * 3: lag * 3])\n",
    "\n",
    "# Display the summary of the VAR model\n",
    "print(fitted_model.summary())"
   ]
  },
  {
   "cell_type": "code",
   "execution_count": null,
   "id": "d52f4364",
   "metadata": {},
   "outputs": [],
   "source": []
  }
 ],
 "metadata": {
  "kernelspec": {
   "display_name": "Python 3 (ipykernel)",
   "language": "python",
   "name": "python3"
  },
  "language_info": {
   "codemirror_mode": {
    "name": "ipython",
    "version": 3
   },
   "file_extension": ".py",
   "mimetype": "text/x-python",
   "name": "python",
   "nbconvert_exporter": "python",
   "pygments_lexer": "ipython3",
   "version": "3.10.9"
  }
 },
 "nbformat": 4,
 "nbformat_minor": 5
}
