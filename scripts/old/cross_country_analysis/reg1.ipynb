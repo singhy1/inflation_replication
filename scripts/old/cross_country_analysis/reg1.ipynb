{
 "cells": [
  {
   "cell_type": "code",
   "execution_count": 112,
   "id": "0c217fe3",
   "metadata": {},
   "outputs": [],
   "source": [
    "import numpy as np \n",
    "import pandas as pd \n",
    "import matplotlib.pyplot as plt"
   ]
  },
  {
   "cell_type": "code",
   "execution_count": 87,
   "id": "400f3b2c",
   "metadata": {},
   "outputs": [],
   "source": [
    "data_dir = \"C:/Users/singhy/Desktop/Chicago/cps_data/inflation/raw_data\"\n",
    "output_dir = \"C:/Users/singhy/Desktop/Chicago/cps_data/inflation/output/data\"\n"
   ]
  },
  {
   "cell_type": "code",
   "execution_count": 88,
   "id": "de684516",
   "metadata": {},
   "outputs": [],
   "source": [
    "data_dir = \"C:/Users/singhy/Desktop/Chicago/cps_data/inflation/raw_data\"\n",
    "jv_rate = pd.read_excel(f\"{data_dir}/europe_jv_rate.xlsx\")\n",
    "us_data = pd.read_csv(f\"{output_dir}/clean_stocks.csv\")\n",
    "europe_data = pd.read_excel(f\"{data_dir}/europe_data.xlsx\")"
   ]
  },
  {
   "cell_type": "markdown",
   "id": "189a8f00",
   "metadata": {},
   "source": [
    "# Europe Data "
   ]
  },
  {
   "cell_type": "code",
   "execution_count": 89,
   "id": "a9f24b29",
   "metadata": {},
   "outputs": [],
   "source": [
    "# Melt the dataframe to convert years from columns to rows\n",
    "df_melted = europe_data.melt(id_vars=['Country Name', 'Country Code', 'Series Name', 'Series Code'],\n",
    "                    var_name='Year', value_name='Value')\n",
    "\n",
    "# Clean up the 'Year' column\n",
    "df_melted['Year'] = df_melted['Year'].str[:4].astype(int)\n",
    "\n",
    "df_melted['Value'] = pd.to_numeric(df_melted['Value'], errors='coerce')\n",
    "\n",
    "# Pivot the dataframe to get Unemployment and Inflation as columns\n",
    "df_reshaped = df_melted.pivot_table(index=['Country Name', 'Country Code', 'Year'],\n",
    "                                    columns='Series Name',\n",
    "                                    values='Value')\n",
    "\n",
    "df_reshaped.columns = ['P_12m_change', 'U_rate']\n",
    "\n",
    "# Reset the index\n",
    "df_reshaped = df_reshaped.reset_index()\n",
    "\n",
    "df_reshaped = df_reshaped.rename(columns={'Country Name': 'country', 'Year': 'year'})\n",
    "\n",
    "# Sort the dataframe by Country Name and Year\n",
    "df_reshaped = df_reshaped.sort_values(['country', 'year'])\n",
    "\n",
    "europe_data = df_reshaped"
   ]
  },
  {
   "cell_type": "code",
   "execution_count": 90,
   "id": "7a856838",
   "metadata": {},
   "outputs": [
    {
     "data": {
      "text/html": [
       "<div>\n",
       "<style scoped>\n",
       "    .dataframe tbody tr th:only-of-type {\n",
       "        vertical-align: middle;\n",
       "    }\n",
       "\n",
       "    .dataframe tbody tr th {\n",
       "        vertical-align: top;\n",
       "    }\n",
       "\n",
       "    .dataframe thead th {\n",
       "        text-align: right;\n",
       "    }\n",
       "</style>\n",
       "<table border=\"1\" class=\"dataframe\">\n",
       "  <thead>\n",
       "    <tr style=\"text-align: right;\">\n",
       "      <th></th>\n",
       "      <th>country</th>\n",
       "      <th>Country Code</th>\n",
       "      <th>year</th>\n",
       "      <th>P_12m_change</th>\n",
       "      <th>U_rate</th>\n",
       "    </tr>\n",
       "  </thead>\n",
       "  <tbody>\n",
       "    <tr>\n",
       "      <th>0</th>\n",
       "      <td>Albania</td>\n",
       "      <td>ALB</td>\n",
       "      <td>2016</td>\n",
       "      <td>1.275432</td>\n",
       "      <td>15.418</td>\n",
       "    </tr>\n",
       "    <tr>\n",
       "      <th>1</th>\n",
       "      <td>Albania</td>\n",
       "      <td>ALB</td>\n",
       "      <td>2017</td>\n",
       "      <td>1.986661</td>\n",
       "      <td>13.616</td>\n",
       "    </tr>\n",
       "    <tr>\n",
       "      <th>2</th>\n",
       "      <td>Albania</td>\n",
       "      <td>ALB</td>\n",
       "      <td>2018</td>\n",
       "      <td>2.028060</td>\n",
       "      <td>12.304</td>\n",
       "    </tr>\n",
       "    <tr>\n",
       "      <th>3</th>\n",
       "      <td>Albania</td>\n",
       "      <td>ALB</td>\n",
       "      <td>2019</td>\n",
       "      <td>1.411091</td>\n",
       "      <td>11.466</td>\n",
       "    </tr>\n",
       "    <tr>\n",
       "      <th>4</th>\n",
       "      <td>Albania</td>\n",
       "      <td>ALB</td>\n",
       "      <td>2020</td>\n",
       "      <td>1.620887</td>\n",
       "      <td>11.690</td>\n",
       "    </tr>\n",
       "    <tr>\n",
       "      <th>...</th>\n",
       "      <td>...</td>\n",
       "      <td>...</td>\n",
       "      <td>...</td>\n",
       "      <td>...</td>\n",
       "      <td>...</td>\n",
       "    </tr>\n",
       "    <tr>\n",
       "      <th>395</th>\n",
       "      <td>Uzbekistan</td>\n",
       "      <td>UZB</td>\n",
       "      <td>2018</td>\n",
       "      <td>17.524180</td>\n",
       "      <td>9.350</td>\n",
       "    </tr>\n",
       "    <tr>\n",
       "      <th>396</th>\n",
       "      <td>Uzbekistan</td>\n",
       "      <td>UZB</td>\n",
       "      <td>2019</td>\n",
       "      <td>14.525736</td>\n",
       "      <td>8.980</td>\n",
       "    </tr>\n",
       "    <tr>\n",
       "      <th>397</th>\n",
       "      <td>Uzbekistan</td>\n",
       "      <td>UZB</td>\n",
       "      <td>2020</td>\n",
       "      <td>12.867730</td>\n",
       "      <td>5.293</td>\n",
       "    </tr>\n",
       "    <tr>\n",
       "      <th>398</th>\n",
       "      <td>Uzbekistan</td>\n",
       "      <td>UZB</td>\n",
       "      <td>2021</td>\n",
       "      <td>10.849240</td>\n",
       "      <td>NaN</td>\n",
       "    </tr>\n",
       "    <tr>\n",
       "      <th>399</th>\n",
       "      <td>Uzbekistan</td>\n",
       "      <td>UZB</td>\n",
       "      <td>2022</td>\n",
       "      <td>11.446644</td>\n",
       "      <td>NaN</td>\n",
       "    </tr>\n",
       "  </tbody>\n",
       "</table>\n",
       "<p>400 rows × 5 columns</p>\n",
       "</div>"
      ],
      "text/plain": [
       "        country Country Code  year  P_12m_change  U_rate\n",
       "0       Albania          ALB  2016      1.275432  15.418\n",
       "1       Albania          ALB  2017      1.986661  13.616\n",
       "2       Albania          ALB  2018      2.028060  12.304\n",
       "3       Albania          ALB  2019      1.411091  11.466\n",
       "4       Albania          ALB  2020      1.620887  11.690\n",
       "..          ...          ...   ...           ...     ...\n",
       "395  Uzbekistan          UZB  2018     17.524180   9.350\n",
       "396  Uzbekistan          UZB  2019     14.525736   8.980\n",
       "397  Uzbekistan          UZB  2020     12.867730   5.293\n",
       "398  Uzbekistan          UZB  2021     10.849240     NaN\n",
       "399  Uzbekistan          UZB  2022     11.446644     NaN\n",
       "\n",
       "[400 rows x 5 columns]"
      ]
     },
     "execution_count": 90,
     "metadata": {},
     "output_type": "execute_result"
    }
   ],
   "source": [
    "europe_data"
   ]
  },
  {
   "cell_type": "markdown",
   "id": "52308340",
   "metadata": {},
   "source": [
    "# US Data formatting "
   ]
  },
  {
   "cell_type": "code",
   "execution_count": 91,
   "id": "70ebc33a",
   "metadata": {},
   "outputs": [],
   "source": [
    "select = ['date', 'P_12m_change', 'U_rate', 'tightness']\n",
    "us_data = us_data[select]\n",
    "\n",
    "us_data = us_data[us_data['date'] >= '2016-01-01']\n",
    "\n",
    "us_data['date'] = pd.to_datetime(us_data['date'])\n",
    "us_data['year'] = us_data['date'].dt.year\n",
    "\n",
    "us_data = us_data.groupby('year').agg({\n",
    "    'tightness': 'mean',\n",
    "    'P_12m_change': 'mean',\n",
    "    'U_rate': 'mean'\n",
    "}).reset_index()"
   ]
  },
  {
   "cell_type": "code",
   "execution_count": 98,
   "id": "48a45225",
   "metadata": {},
   "outputs": [],
   "source": [
    "us_data['country'] = \"US\""
   ]
  },
  {
   "cell_type": "code",
   "execution_count": 99,
   "id": "3d7303e7",
   "metadata": {},
   "outputs": [
    {
     "data": {
      "text/html": [
       "<div>\n",
       "<style scoped>\n",
       "    .dataframe tbody tr th:only-of-type {\n",
       "        vertical-align: middle;\n",
       "    }\n",
       "\n",
       "    .dataframe tbody tr th {\n",
       "        vertical-align: top;\n",
       "    }\n",
       "\n",
       "    .dataframe thead th {\n",
       "        text-align: right;\n",
       "    }\n",
       "</style>\n",
       "<table border=\"1\" class=\"dataframe\">\n",
       "  <thead>\n",
       "    <tr style=\"text-align: right;\">\n",
       "      <th></th>\n",
       "      <th>year</th>\n",
       "      <th>tightness</th>\n",
       "      <th>P_12m_change</th>\n",
       "      <th>U_rate</th>\n",
       "      <th>country</th>\n",
       "    </tr>\n",
       "  </thead>\n",
       "  <tbody>\n",
       "    <tr>\n",
       "      <th>0</th>\n",
       "      <td>2016</td>\n",
       "      <td>0.755817</td>\n",
       "      <td>1.266681</td>\n",
       "      <td>5.096855</td>\n",
       "      <td>US</td>\n",
       "    </tr>\n",
       "    <tr>\n",
       "      <th>1</th>\n",
       "      <td>2017</td>\n",
       "      <td>0.878015</td>\n",
       "      <td>2.132672</td>\n",
       "      <td>4.547767</td>\n",
       "      <td>US</td>\n",
       "    </tr>\n",
       "    <tr>\n",
       "      <th>2</th>\n",
       "      <td>2018</td>\n",
       "      <td>1.127479</td>\n",
       "      <td>2.439754</td>\n",
       "      <td>4.069043</td>\n",
       "      <td>US</td>\n",
       "    </tr>\n",
       "    <tr>\n",
       "      <th>3</th>\n",
       "      <td>2019</td>\n",
       "      <td>1.193024</td>\n",
       "      <td>1.812632</td>\n",
       "      <td>3.823671</td>\n",
       "      <td>US</td>\n",
       "    </tr>\n",
       "    <tr>\n",
       "      <th>4</th>\n",
       "      <td>2020</td>\n",
       "      <td>0.613054</td>\n",
       "      <td>1.251092</td>\n",
       "      <td>8.374730</td>\n",
       "      <td>US</td>\n",
       "    </tr>\n",
       "    <tr>\n",
       "      <th>5</th>\n",
       "      <td>2021</td>\n",
       "      <td>1.208495</td>\n",
       "      <td>4.677409</td>\n",
       "      <td>5.573719</td>\n",
       "      <td>US</td>\n",
       "    </tr>\n",
       "    <tr>\n",
       "      <th>6</th>\n",
       "      <td>2022</td>\n",
       "      <td>1.867988</td>\n",
       "      <td>7.999210</td>\n",
       "      <td>3.782165</td>\n",
       "      <td>US</td>\n",
       "    </tr>\n",
       "    <tr>\n",
       "      <th>7</th>\n",
       "      <td>2023</td>\n",
       "      <td>1.543178</td>\n",
       "      <td>4.147561</td>\n",
       "      <td>3.748049</td>\n",
       "      <td>US</td>\n",
       "    </tr>\n",
       "    <tr>\n",
       "      <th>8</th>\n",
       "      <td>2024</td>\n",
       "      <td>1.254695</td>\n",
       "      <td>3.179142</td>\n",
       "      <td>4.034731</td>\n",
       "      <td>US</td>\n",
       "    </tr>\n",
       "  </tbody>\n",
       "</table>\n",
       "</div>"
      ],
      "text/plain": [
       "   year  tightness  P_12m_change    U_rate country\n",
       "0  2016   0.755817      1.266681  5.096855      US\n",
       "1  2017   0.878015      2.132672  4.547767      US\n",
       "2  2018   1.127479      2.439754  4.069043      US\n",
       "3  2019   1.193024      1.812632  3.823671      US\n",
       "4  2020   0.613054      1.251092  8.374730      US\n",
       "5  2021   1.208495      4.677409  5.573719      US\n",
       "6  2022   1.867988      7.999210  3.782165      US\n",
       "7  2023   1.543178      4.147561  3.748049      US\n",
       "8  2024   1.254695      3.179142  4.034731      US"
      ]
     },
     "execution_count": 99,
     "metadata": {},
     "output_type": "execute_result"
    }
   ],
   "source": [
    "us_data"
   ]
  },
  {
   "cell_type": "markdown",
   "id": "1f4921a7",
   "metadata": {},
   "source": [
    "# Job Vacancy Rate"
   ]
  },
  {
   "cell_type": "code",
   "execution_count": 93,
   "id": "06e50090",
   "metadata": {},
   "outputs": [],
   "source": [
    "select = ['Country', '2014', '2015', '2016', '2017', '2018', '2019', '2020', '2021', '2022', '2023']\n",
    "jv_rate = jv_rate[select]"
   ]
  },
  {
   "cell_type": "code",
   "execution_count": 94,
   "id": "92238f3b",
   "metadata": {},
   "outputs": [
    {
     "name": "stdout",
     "output_type": "stream",
     "text": [
      "            country  year V_rate\n",
      "0           Austria  2014    1.8\n",
      "1           Austria  2015    1.9\n",
      "2           Austria  2016    2.1\n",
      "3           Austria  2017    2.7\n",
      "4           Austria  2018    3.2\n",
      "..              ...   ...    ...\n",
      "315  United Kingdom  2019    2.6\n",
      "316  United Kingdom  2020      :\n",
      "317  United Kingdom  2021      :\n",
      "318  United Kingdom  2022      :\n",
      "319  United Kingdom  2023      :\n",
      "\n",
      "[320 rows x 3 columns]\n"
     ]
    }
   ],
   "source": [
    "# Melt the dataframe to convert years from columns to rows\n",
    "jv_rate = jv_rate.melt(id_vars=['Country'], \n",
    "                    var_name='Year', \n",
    "                    value_name='V_rate')\n",
    "\n",
    "# Convert 'Year' to integer\n",
    "jv_rate['Year'] = jv_rate['Year'].astype(int)\n",
    "\n",
    "# Rename 'Country' to 'country' and 'Year' to 'year'\n",
    "jv_rate = jv_rate.rename(columns={'Country': 'country', 'Year': 'year'})\n",
    "\n",
    "# Sort the dataframe by Country and Year\n",
    "jv_rate = jv_rate.sort_values(['country', 'year'])\n",
    "\n",
    "# Reset the index\n",
    "jv_rate = jv_rate.reset_index(drop=True)\n"
   ]
  },
  {
   "cell_type": "code",
   "execution_count": 96,
   "id": "fbc5a8fe",
   "metadata": {},
   "outputs": [],
   "source": [
    "data = pd.merge(jv_rate, europe_data, on=['country', 'year'], how = 'inner')"
   ]
  },
  {
   "cell_type": "code",
   "execution_count": 103,
   "id": "003e4a99",
   "metadata": {},
   "outputs": [],
   "source": [
    "data['V_rate'] = pd.to_numeric(data['V_rate'], errors='coerce')"
   ]
  },
  {
   "cell_type": "code",
   "execution_count": 104,
   "id": "ff09405e",
   "metadata": {},
   "outputs": [],
   "source": [
    "data['tightness'] = data['V_rate'] / data['U_rate']"
   ]
  },
  {
   "cell_type": "code",
   "execution_count": 106,
   "id": "60144489",
   "metadata": {},
   "outputs": [],
   "source": [
    "select = ['country', 'year', 'P_12m_change', 'U_rate', 'tightness']\n",
    "data = data[select]"
   ]
  },
  {
   "cell_type": "markdown",
   "id": "bce1d461",
   "metadata": {},
   "source": [
    "# Merge "
   ]
  },
  {
   "cell_type": "code",
   "execution_count": 108,
   "id": "aea9b4e4",
   "metadata": {},
   "outputs": [],
   "source": [
    "final = pd.concat([data, us_data], ignore_index = True)"
   ]
  },
  {
   "cell_type": "code",
   "execution_count": 110,
   "id": "a60c7d17",
   "metadata": {},
   "outputs": [
    {
     "data": {
      "text/html": [
       "<div>\n",
       "<style scoped>\n",
       "    .dataframe tbody tr th:only-of-type {\n",
       "        vertical-align: middle;\n",
       "    }\n",
       "\n",
       "    .dataframe tbody tr th {\n",
       "        vertical-align: top;\n",
       "    }\n",
       "\n",
       "    .dataframe thead th {\n",
       "        text-align: right;\n",
       "    }\n",
       "</style>\n",
       "<table border=\"1\" class=\"dataframe\">\n",
       "  <thead>\n",
       "    <tr style=\"text-align: right;\">\n",
       "      <th></th>\n",
       "      <th>country</th>\n",
       "      <th>year</th>\n",
       "      <th>P_12m_change</th>\n",
       "      <th>U_rate</th>\n",
       "      <th>tightness</th>\n",
       "    </tr>\n",
       "  </thead>\n",
       "  <tbody>\n",
       "    <tr>\n",
       "      <th>0</th>\n",
       "      <td>Austria</td>\n",
       "      <td>2016</td>\n",
       "      <td>0.891592</td>\n",
       "      <td>6.064</td>\n",
       "      <td>0.346306</td>\n",
       "    </tr>\n",
       "    <tr>\n",
       "      <th>1</th>\n",
       "      <td>Austria</td>\n",
       "      <td>2017</td>\n",
       "      <td>2.081269</td>\n",
       "      <td>5.561</td>\n",
       "      <td>0.485524</td>\n",
       "    </tr>\n",
       "    <tr>\n",
       "      <th>2</th>\n",
       "      <td>Austria</td>\n",
       "      <td>2018</td>\n",
       "      <td>1.998380</td>\n",
       "      <td>4.933</td>\n",
       "      <td>0.648692</td>\n",
       "    </tr>\n",
       "    <tr>\n",
       "      <th>3</th>\n",
       "      <td>Austria</td>\n",
       "      <td>2019</td>\n",
       "      <td>1.530896</td>\n",
       "      <td>4.560</td>\n",
       "      <td>0.745614</td>\n",
       "    </tr>\n",
       "    <tr>\n",
       "      <th>4</th>\n",
       "      <td>Austria</td>\n",
       "      <td>2020</td>\n",
       "      <td>1.381911</td>\n",
       "      <td>5.201</td>\n",
       "      <td>0.538358</td>\n",
       "    </tr>\n",
       "  </tbody>\n",
       "</table>\n",
       "</div>"
      ],
      "text/plain": [
       "   country  year  P_12m_change  U_rate  tightness\n",
       "0  Austria  2016      0.891592   6.064   0.346306\n",
       "1  Austria  2017      2.081269   5.561   0.485524\n",
       "2  Austria  2018      1.998380   4.933   0.648692\n",
       "3  Austria  2019      1.530896   4.560   0.745614\n",
       "4  Austria  2020      1.381911   5.201   0.538358"
      ]
     },
     "execution_count": 110,
     "metadata": {},
     "output_type": "execute_result"
    }
   ],
   "source": [
    "final.head()"
   ]
  },
  {
   "cell_type": "code",
   "execution_count": 115,
   "id": "0cb53e55",
   "metadata": {},
   "outputs": [],
   "source": [
    "final.to_excel(f\"{output_dir}/cross_country_data.xlsx\", sheet_name = 'data', index = False, engine = 'openpyxl')"
   ]
  },
  {
   "cell_type": "code",
   "execution_count": 119,
   "id": "621a2539",
   "metadata": {},
   "outputs": [
    {
     "data": {
      "image/png": "[encoded data removed]",
      "text/plain": [
       "<Figure size 1000x600 with 1 Axes>"
      ]
     },
     "metadata": {},
     "output_type": "display_data"
    }
   ],
   "source": [
    "# 1. Calculate Average Inflation Rate for 2021-2023\n",
    "inflation_2021_2023 = final[(final['year'] >= 2022) & (final['year'] <= 2023)].groupby('country')['P_12m_change'].mean().reset_index()\n",
    "inflation_2021_2023.columns = ['country', 'avg_inflation_2021_2023']\n",
    "\n",
    "# 2. Calculate Pre-Pandemic Average Vacancy-to-Unemployment Rate (2016-2019)\n",
    "vacancy_pre_pandemic = final[(final['year'] >= 2016) & (final['year'] <= 2019)].groupby('country')['tightness'].mean().reset_index()\n",
    "vacancy_pre_pandemic.columns = ['country', 'avg_vacancy_pre_pandemic']\n",
    "\n",
    "# Calculate average tightness for 2021-2023\n",
    "vacancy_inflation = final[(final['year'] >= 2022) & (final['year'] <= 2023)].groupby('country')['tightness'].mean().reset_index()\n",
    "vacancy_inflation.columns = ['country', 'avg_vacancy_inflation']\n",
    "\n",
    "# Merge data\n",
    "merged_data = inflation_2021_2023.merge(vacancy_pre_pandemic, on='country').merge(vacancy_inflation, on='country')\n",
    "\n",
    "# Calculate percentage change\n",
    "merged_data['vacancy_change'] = (merged_data['avg_vacancy_inflation'] - merged_data['avg_vacancy_pre_pandemic']) / merged_data['avg_vacancy_pre_pandemic'] * 100\n",
    "\n",
    "# 3. Create the plot\n",
    "plt.figure(figsize=(10, 6))\n",
    "plt.scatter(merged_data['avg_inflation_2021_2023'], merged_data['vacancy_change'], alpha=0.7)\n",
    "\n",
    "# Annotate each point with the country name\n",
    "for i, row in merged_data.iterrows():\n",
    "    plt.annotate(row['country'], (row['avg_inflation_2021_2023'], row['vacancy_change']),\n",
    "                 textcoords=\"offset points\", xytext=(0, 5), ha='center')\n",
    "\n",
    "plt.title('Cross-Country Relationship Between Inflation and Tightness')\n",
    "plt.xlabel('Average Inflation Rate')\n",
    "plt.ylabel('Percentage Change in V/U')\n",
    "plt.grid()\n",
    "\n",
    "# Save the plot as a PNG file\n",
    "plt.savefig(f\"{output_dir}/inflation_vs_vacancy_change.png\", format='png', dpi=300)\n",
    "plt.show()\n"
   ]
  },
  {
   "cell_type": "code",
   "execution_count": null,
   "id": "a78a0184",
   "metadata": {},
   "outputs": [],
   "source": []
  },
  {
   "cell_type": "code",
   "execution_count": 113,
   "id": "f369880c",
   "metadata": {},
   "outputs": [
    {
     "data": {
      "image/png": "[encoded data removed]",
      "text/plain": [
       "<Figure size 1000x600 with 1 Axes>"
      ]
     },
     "metadata": {},
     "output_type": "display_data"
    }
   ],
   "source": [
    "# 1. Calculate Average Inflation Rate for 2021-2023\n",
    "# Note: You'll need to ensure you have the inflation data for 2021-2023 included in your DataFrame.\n",
    "inflation_2021_2023 = final[(final['year'] >= 2021) & (final['year'] <= 2023)].groupby('country')['P_12m_change'].mean().reset_index()\n",
    "inflation_2021_2023.columns = ['country', 'avg_inflation_2021_2023']\n",
    "\n",
    "# 2. Calculate Pre-Pandemic Average Vacancy-to-Unemployment Rate (2016-2019)\n",
    "vacancy_pre_pandemic = final[(final['year'] >= 2016) & (final['year'] <= 2019)].groupby('country')['tightness'].mean().reset_index()\n",
    "vacancy_pre_pandemic.columns = ['country', 'avg_vacancy_pre_pandemic']\n",
    "\n",
    "# Assuming you have the average tightness for 2021-2023 in a similar DataFrame, calculate percentage change\n",
    "# Here, for demonstration purposes, let's assume 'avg_tightness_inflation' is available.\n",
    "# For the example, we will use the same average value.\n",
    "vacancy_inflation = final[(final['year'] >= 2021) & (final['year'] <= 2023)].groupby('country')['tightness'].mean().reset_index()\n",
    "vacancy_inflation.columns = ['country', 'avg_vacancy_inflation']\n",
    "\n",
    "# Merge data\n",
    "merged_data = inflation_2021_2023.merge(vacancy_pre_pandemic, on='country').merge(vacancy_inflation, on='country')\n",
    "\n",
    "# Calculate percentage change\n",
    "merged_data['vacancy_change'] = (merged_data['avg_vacancy_inflation'] - merged_data['avg_vacancy_pre_pandemic']) / merged_data['avg_vacancy_pre_pandemic'] * 100\n",
    "\n",
    "# 3. Create the plot\n",
    "plt.figure(figsize=(10, 6))\n",
    "plt.scatter(merged_data['avg_inflation_2021_2023'], merged_data['vacancy_change'], alpha=0.7)\n",
    "plt.title()\n",
    "plt.xlabel('Average Inflation Rate (2021-2023)')\n",
    "plt.ylabel('Percentage Change in V/U')\n",
    "plt.grid()\n",
    "plt.show()"
   ]
  },
  {
   "cell_type": "code",
   "execution_count": null,
   "id": "b58b951e",
   "metadata": {},
   "outputs": [],
   "source": []
  },
  {
   "cell_type": "code",
   "execution_count": null,
   "id": "92e97538",
   "metadata": {},
   "outputs": [],
   "source": []
  }
 ],
 "metadata": {
  "kernelspec": {
   "display_name": "Python 3 (ipykernel)",
   "language": "python",
   "name": "python3"
  },
  "language_info": {
   "codemirror_mode": {
    "name": "ipython",
    "version": 3
   },
   "file_extension": ".py",
   "mimetype": "text/x-python",
   "name": "python",
   "nbconvert_exporter": "python",
   "pygments_lexer": "ipython3",
   "version": "3.10.9"
  }
 },
 "nbformat": 4,
 "nbformat_minor": 5
}
