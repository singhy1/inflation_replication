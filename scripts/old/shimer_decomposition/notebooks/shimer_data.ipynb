{
 "cells": [
  {
   "cell_type": "code",
   "execution_count": 4,
   "id": "0a202a62",
   "metadata": {},
   "outputs": [
    {
     "name": "stderr",
     "output_type": "stream",
     "text": [
      "C:\\Users\\singhy\\AppData\\Local\\anaconda3\\lib\\site-packages\\pandas\\core\\arrays\\masked.py:60: UserWarning: Pandas requires version '1.3.6' or newer of 'bottleneck' (version '1.3.5' currently installed).\n",
      "  from pandas.core import (\n",
      "C:\\Users\\singhy\\AppData\\Local\\Temp\\ipykernel_13808\\2932836768.py:4: DeprecationWarning: \n",
      "Pyarrow will become a required dependency of pandas in the next major release of pandas (pandas 3.0),\n",
      "(to allow more performant data types, such as the Arrow string type, and better interoperability with other libraries)\n",
      "but was not found to be installed on your system.\n",
      "If this would cause problems for you,\n",
      "please provide us feedback at https://github.com/pandas-dev/pandas/issues/54466\n",
      "        \n",
      "  import pandas as pd\n"
     ]
    }
   ],
   "source": [
    "# Necessary Packages \n",
    "\n",
    "import numpy as np \n",
    "import pandas as pd "
   ]
  },
  {
   "cell_type": "code",
   "execution_count": 5,
   "id": "98a0de93",
   "metadata": {},
   "outputs": [],
   "source": [
    "# “This data was constructed by Robert Shimer.  For additional details, please see Shimer (2012).” "
   ]
  },
  {
   "cell_type": "code",
   "execution_count": 6,
   "id": "39a1ac32",
   "metadata": {},
   "outputs": [],
   "source": [
    "# Specify directories \n",
    "data_dir = \"C:/Users/singhy/Desktop/Chicago/cps_data/inflation/raw_data\"\n",
    "output_dir = \"C:/Users/singhy/Desktop/Chicago/cps_data/inflation/output\"\n"
   ]
  },
  {
   "cell_type": "code",
   "execution_count": 7,
   "id": "16a95179",
   "metadata": {},
   "outputs": [],
   "source": [
    "job_finding = pd.read_csv(f\"{data_dir}/shimer_data/find-prob.dat\", delimiter=',', header = None)\n",
    "job_destruction = pd.read_csv(f\"{data_dir}/shimer_data/sep-prob.dat\", delimiter=',', header = None)"
   ]
  },
  {
   "cell_type": "code",
   "execution_count": 8,
   "id": "43b8eb9c",
   "metadata": {},
   "outputs": [],
   "source": [
    "# Rename columns appropriately\n",
    "job_finding.columns = [\"date\", \"job_finding_rate\"]\n",
    "job_destruction.columns = [\"date\", \"job_destruction_rate\"]"
   ]
  },
  {
   "cell_type": "code",
   "execution_count": 9,
   "id": "dab2e68d",
   "metadata": {},
   "outputs": [],
   "source": [
    "job_finding = job_finding.apply(lambda x: x.str.replace('{', '').str.replace('}', '') if x.dtype == 'object' else x)\n",
    "job_destruction = job_destruction.apply(lambda x: x.str.replace('{', '').str.replace('}', '') if x.dtype == 'object' else x)"
   ]
  },
  {
   "cell_type": "code",
   "execution_count": 11,
   "id": "ce760a7c",
   "metadata": {},
   "outputs": [],
   "source": [
    "job_destruction['job_destruction_rate'] = job_destruction['job_destruction_rate'].astype(float)\n",
    "job_finding['job_finding_rate'] = job_finding['job_finding_rate'].astype(float)"
   ]
  },
  {
   "cell_type": "code",
   "execution_count": 12,
   "id": "5b7cd515",
   "metadata": {},
   "outputs": [],
   "source": [
    "job_finding = job_finding[job_finding['date'] >= '1967-01-01']\n",
    "job_destruction = job_destruction[job_destruction['date'] >= '1967-01-01']"
   ]
  },
  {
   "cell_type": "code",
   "execution_count": 13,
   "id": "b09dcd52",
   "metadata": {},
   "outputs": [],
   "source": [
    "job_destruction_long_run_avg = job_destruction['job_destruction_rate'].mean()\n",
    "job_finding_long_run_avg = job_finding['job_finding_rate'].mean()"
   ]
  },
  {
   "cell_type": "code",
   "execution_count": 14,
   "id": "518609fa",
   "metadata": {},
   "outputs": [
    {
     "data": {
      "text/plain": [
       "0.03544958124897702"
      ]
     },
     "execution_count": 14,
     "metadata": {},
     "output_type": "execute_result"
    }
   ],
   "source": [
    "job_destruction_long_run_avg"
   ]
  },
  {
   "cell_type": "code",
   "execution_count": 15,
   "id": "13e647e2",
   "metadata": {},
   "outputs": [
    {
     "data": {
      "text/plain": [
       "0.4408596279249837"
      ]
     },
     "execution_count": 15,
     "metadata": {},
     "output_type": "execute_result"
    }
   ],
   "source": [
    "job_finding_long_run_avg"
   ]
  },
  {
   "cell_type": "code",
   "execution_count": 57,
   "id": "1c1cf213",
   "metadata": {},
   "outputs": [],
   "source": [
    "long_run_avg = pd.DataFrame({'avg_job_finding':[job_finding_long_run_avg], 'avg_job_destruction_rate':[job_destruction_long_run_avg]})"
   ]
  },
  {
   "cell_type": "code",
   "execution_count": 58,
   "id": "4eeb33d8",
   "metadata": {},
   "outputs": [],
   "source": [
    "long_run_avg.to_csv(f\"{output_dir}/data/shimer_long_run_avg_rates.csv\", index = False)"
   ]
  },
  {
   "cell_type": "code",
   "execution_count": null,
   "id": "e6176b9a",
   "metadata": {},
   "outputs": [],
   "source": []
  }
 ],
 "metadata": {
  "kernelspec": {
   "display_name": "Python 3 (ipykernel)",
   "language": "python",
   "name": "python3"
  },
  "language_info": {
   "codemirror_mode": {
    "name": "ipython",
    "version": 3
   },
   "file_extension": ".py",
   "mimetype": "text/x-python",
   "name": "python",
   "nbconvert_exporter": "python",
   "pygments_lexer": "ipython3",
   "version": "3.10.9"
  }
 },
 "nbformat": 4,
 "nbformat_minor": 5
}
