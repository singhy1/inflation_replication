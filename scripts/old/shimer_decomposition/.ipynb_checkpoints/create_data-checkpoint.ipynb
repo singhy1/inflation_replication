{
 "cells": [
  {
   "cell_type": "code",
   "execution_count": 59,
   "id": "8b49cd02",
   "metadata": {},
   "outputs": [],
   "source": [
    "# Yash Singh \n",
    "# date: 11/11/2024 \n",
    "# this script creates processed data that will be used to "
   ]
  },
  {
   "cell_type": "code",
   "execution_count": 60,
   "id": "1a52a415",
   "metadata": {},
   "outputs": [],
   "source": [
    "# Necessary Packages \n",
    "\n",
    "import numpy as np \n",
    "import pandas as pd "
   ]
  },
  {
   "cell_type": "code",
   "execution_count": 61,
   "id": "35e3ea08",
   "metadata": {},
   "outputs": [],
   "source": [
    "# Specify directories \n",
    "data_dir = \"C:/Users/singhy/Desktop/Chicago/cps_data/inflation/raw_data\"\n",
    "output_dir = \"C:/Users/singhy/Desktop/Chicago/cps_data/inflation/output\"\n"
   ]
  },
  {
   "cell_type": "code",
   "execution_count": 62,
   "id": "017fe650",
   "metadata": {},
   "outputs": [],
   "source": [
    "# Stock of Employed and Unemployed Workers \n",
    "stocks = pd.read_excel(f\"{data_dir}/fred_employment/employment.xls\", engine='xlrd')\n",
    "\n",
    "# Basic Processing of stocks \n",
    "stocks.columns = ['date', 'E', 'U']\n",
    "stocks = stocks.iloc[11:].reset_index(drop=True)\n",
    "stocks = stocks.dropna(subset=['date', 'E', 'U'])\n",
    "stocks['date'] = pd.to_datetime(stocks['date'])\n",
    "stocks['U'] = stocks['U'].astype(float)"
   ]
  },
  {
   "cell_type": "code",
   "execution_count": 63,
   "id": "b92c152b",
   "metadata": {},
   "outputs": [],
   "source": [
    "eu = pd.read_csv(f\"{data_dir}/fred_flows/EU.csv\")\n",
    "ue = pd.read_csv(f\"{data_dir}/fred_flows/UE.csv\")"
   ]
  },
  {
   "cell_type": "code",
   "execution_count": 64,
   "id": "26a4b7ef",
   "metadata": {},
   "outputs": [],
   "source": [
    "eu.columns = ['date', 'eu_flows']\n",
    "ue.columns = ['date', 'ue_flows']\n"
   ]
  },
  {
   "cell_type": "code",
   "execution_count": 65,
   "id": "d2c4b223",
   "metadata": {},
   "outputs": [],
   "source": [
    "flows = eu.merge(ue, on = ['date'])\n",
    "flows['date'] = pd.to_datetime(flows['date'])"
   ]
  },
  {
   "cell_type": "code",
   "execution_count": 66,
   "id": "340c0f47",
   "metadata": {},
   "outputs": [],
   "source": [
    "data = stocks.merge(flows, on = ['date'])"
   ]
  },
  {
   "cell_type": "code",
   "execution_count": 67,
   "id": "ca423797",
   "metadata": {},
   "outputs": [],
   "source": [
    "data['L'] = data['E'] + data['U']"
   ]
  },
  {
   "cell_type": "code",
   "execution_count": 68,
   "id": "3d95567b",
   "metadata": {},
   "outputs": [],
   "source": [
    "data['u_rate'] = data['U'] / data['L']"
   ]
  },
  {
   "cell_type": "code",
   "execution_count": 69,
   "id": "ef4b1d7b",
   "metadata": {},
   "outputs": [],
   "source": [
    "data['seperation_rate'] = data['eu_flows'] / data['E']\n",
    "data['job_finding_rate'] = data['ue_flows'] / data['U']"
   ]
  },
  {
   "cell_type": "code",
   "execution_count": 70,
   "id": "24ef13a4",
   "metadata": {},
   "outputs": [],
   "source": [
    "keep = ['date', 'u_rate', 'seperation_rate', 'job_finding_rate']\n",
    "final = data[keep]"
   ]
  },
  {
   "cell_type": "markdown",
   "id": "d299ec38",
   "metadata": {},
   "source": [
    "final.loc[:, 'out_rate'] = -(final['job_finding_rate'] * final['u_rate'])\n",
    "final.loc[:, 'in_rate'] = final['seperation_rate'] * (1 - final['u_rate'])\n"
   ]
  },
  {
   "cell_type": "code",
   "execution_count": null,
   "id": "cf9aa9e6",
   "metadata": {},
   "outputs": [],
   "source": []
  },
  {
   "cell_type": "code",
   "execution_count": 71,
   "id": "cb9cea71",
   "metadata": {},
   "outputs": [],
   "source": [
    "final.to_csv(f\"{output_dir}/data/shimer_decomposition_data.csv\", index=False)"
   ]
  },
  {
   "cell_type": "code",
   "execution_count": 72,
   "id": "e3e6db2d",
   "metadata": {},
   "outputs": [
    {
     "data": {
      "text/html": [
       "<div>\n",
       "<style scoped>\n",
       "    .dataframe tbody tr th:only-of-type {\n",
       "        vertical-align: middle;\n",
       "    }\n",
       "\n",
       "    .dataframe tbody tr th {\n",
       "        vertical-align: top;\n",
       "    }\n",
       "\n",
       "    .dataframe thead th {\n",
       "        text-align: right;\n",
       "    }\n",
       "</style>\n",
       "<table border=\"1\" class=\"dataframe\">\n",
       "  <thead>\n",
       "    <tr style=\"text-align: right;\">\n",
       "      <th></th>\n",
       "      <th>date</th>\n",
       "      <th>u_rate</th>\n",
       "      <th>seperation_rate</th>\n",
       "      <th>job_finding_rate</th>\n",
       "    </tr>\n",
       "  </thead>\n",
       "  <tbody>\n",
       "    <tr>\n",
       "      <th>0</th>\n",
       "      <td>1990-02-01</td>\n",
       "      <td>0.052907</td>\n",
       "      <td>0.015312</td>\n",
       "      <td>0.323560</td>\n",
       "    </tr>\n",
       "    <tr>\n",
       "      <th>1</th>\n",
       "      <td>1990-03-01</td>\n",
       "      <td>0.052448</td>\n",
       "      <td>0.014798</td>\n",
       "      <td>0.297666</td>\n",
       "    </tr>\n",
       "    <tr>\n",
       "      <th>2</th>\n",
       "      <td>1990-04-01</td>\n",
       "      <td>0.054095</td>\n",
       "      <td>0.015759</td>\n",
       "      <td>0.264970</td>\n",
       "    </tr>\n",
       "    <tr>\n",
       "      <th>3</th>\n",
       "      <td>1990-05-01</td>\n",
       "      <td>0.053553</td>\n",
       "      <td>0.014066</td>\n",
       "      <td>0.286414</td>\n",
       "    </tr>\n",
       "    <tr>\n",
       "      <th>4</th>\n",
       "      <td>1990-06-01</td>\n",
       "      <td>0.052479</td>\n",
       "      <td>0.014884</td>\n",
       "      <td>0.295144</td>\n",
       "    </tr>\n",
       "    <tr>\n",
       "      <th>...</th>\n",
       "      <td>...</td>\n",
       "      <td>...</td>\n",
       "      <td>...</td>\n",
       "      <td>...</td>\n",
       "    </tr>\n",
       "    <tr>\n",
       "      <th>411</th>\n",
       "      <td>2024-05-01</td>\n",
       "      <td>0.039641</td>\n",
       "      <td>0.009604</td>\n",
       "      <td>0.265604</td>\n",
       "    </tr>\n",
       "    <tr>\n",
       "      <th>412</th>\n",
       "      <td>2024-06-01</td>\n",
       "      <td>0.040539</td>\n",
       "      <td>0.009566</td>\n",
       "      <td>0.262957</td>\n",
       "    </tr>\n",
       "    <tr>\n",
       "      <th>413</th>\n",
       "      <td>2024-07-01</td>\n",
       "      <td>0.042528</td>\n",
       "      <td>0.011373</td>\n",
       "      <td>0.244311</td>\n",
       "    </tr>\n",
       "    <tr>\n",
       "      <th>414</th>\n",
       "      <td>2024-08-01</td>\n",
       "      <td>0.042213</td>\n",
       "      <td>0.01107</td>\n",
       "      <td>0.272242</td>\n",
       "    </tr>\n",
       "    <tr>\n",
       "      <th>415</th>\n",
       "      <td>2024-09-01</td>\n",
       "      <td>0.04051</td>\n",
       "      <td>0.009712</td>\n",
       "      <td>0.294118</td>\n",
       "    </tr>\n",
       "  </tbody>\n",
       "</table>\n",
       "<p>416 rows × 4 columns</p>\n",
       "</div>"
      ],
      "text/plain": [
       "          date    u_rate seperation_rate  job_finding_rate\n",
       "0   1990-02-01  0.052907        0.015312          0.323560\n",
       "1   1990-03-01  0.052448        0.014798          0.297666\n",
       "2   1990-04-01  0.054095        0.015759          0.264970\n",
       "3   1990-05-01  0.053553        0.014066          0.286414\n",
       "4   1990-06-01  0.052479        0.014884          0.295144\n",
       "..         ...       ...             ...               ...\n",
       "411 2024-05-01  0.039641        0.009604          0.265604\n",
       "412 2024-06-01  0.040539        0.009566          0.262957\n",
       "413 2024-07-01  0.042528        0.011373          0.244311\n",
       "414 2024-08-01  0.042213         0.01107          0.272242\n",
       "415 2024-09-01   0.04051        0.009712          0.294118\n",
       "\n",
       "[416 rows x 4 columns]"
      ]
     },
     "execution_count": 72,
     "metadata": {},
     "output_type": "execute_result"
    }
   ],
   "source": [
    "final"
   ]
  },
  {
   "cell_type": "code",
   "execution_count": null,
   "id": "9e3d3d06",
   "metadata": {},
   "outputs": [],
   "source": []
  }
 ],
 "metadata": {
  "kernelspec": {
   "display_name": "Python 3 (ipykernel)",
   "language": "python",
   "name": "python3"
  },
  "language_info": {
   "codemirror_mode": {
    "name": "ipython",
    "version": 3
   },
   "file_extension": ".py",
   "mimetype": "text/x-python",
   "name": "python",
   "nbconvert_exporter": "python",
   "pygments_lexer": "ipython3",
   "version": "3.10.9"
  }
 },
 "nbformat": 4,
 "nbformat_minor": 5
}
