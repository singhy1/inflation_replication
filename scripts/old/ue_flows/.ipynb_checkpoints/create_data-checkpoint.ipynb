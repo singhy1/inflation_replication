{
 "cells": [
  {
   "cell_type": "code",
   "execution_count": 1,
   "id": "401727ee",
   "metadata": {},
   "outputs": [],
   "source": [
    "# Yash Singh \n",
    "# date: 11/11/2024 \n",
    "# this script creates processed data that will be used to"
   ]
  },
  {
   "cell_type": "code",
   "execution_count": 2,
   "id": "3fe7814b",
   "metadata": {},
   "outputs": [],
   "source": [
    "# Specify directories \n",
    "data_dir = \"C:/Users/singhy/Desktop/Chicago/cps_data/inflation/raw_data\"\n",
    "output_dir = \"C:/Users/singhy/Desktop/Chicago/cps_data/inflation/output\"\n"
   ]
  },
  {
   "cell_type": "code",
   "execution_count": 3,
   "id": "f131d650",
   "metadata": {},
   "outputs": [
    {
     "name": "stderr",
     "output_type": "stream",
     "text": [
      "C:\\Users\\singhy\\AppData\\Local\\anaconda3\\lib\\site-packages\\pandas\\core\\arrays\\masked.py:60: UserWarning: Pandas requires version '1.3.6' or newer of 'bottleneck' (version '1.3.5' currently installed).\n",
      "  from pandas.core import (\n",
      "C:\\Users\\singhy\\AppData\\Local\\Temp\\ipykernel_27316\\2932836768.py:4: DeprecationWarning: \n",
      "Pyarrow will become a required dependency of pandas in the next major release of pandas (pandas 3.0),\n",
      "(to allow more performant data types, such as the Arrow string type, and better interoperability with other libraries)\n",
      "but was not found to be installed on your system.\n",
      "If this would cause problems for you,\n",
      "please provide us feedback at https://github.com/pandas-dev/pandas/issues/54466\n",
      "        \n",
      "  import pandas as pd\n"
     ]
    }
   ],
   "source": [
    "# Necessary Packages \n",
    "\n",
    "import numpy as np \n",
    "import pandas as pd "
   ]
  },
  {
   "cell_type": "code",
   "execution_count": 4,
   "id": "15fdfa0d",
   "metadata": {},
   "outputs": [],
   "source": [
    "# Stock of Employed and Unemployed Workers \n",
    "stocks = pd.read_excel(f\"{data_dir}/fred_employment/employment.xls\", engine='xlrd')\n",
    "\n",
    "# Basic Processing of stocks \n",
    "stocks.columns = ['date', 'E', 'U']\n",
    "stocks = stocks.iloc[11:].reset_index(drop=True)\n",
    "stocks = stocks.dropna(subset=['date', 'E', 'U'])\n",
    "stocks['date'] = pd.to_datetime(stocks['date'])\n",
    "stocks['U'] = stocks['U'].astype(float)"
   ]
  },
  {
   "cell_type": "code",
   "execution_count": 5,
   "id": "597e912f",
   "metadata": {},
   "outputs": [],
   "source": [
    "ue = pd.read_csv(f\"{data_dir}/fred_flows/UE.csv\")\n",
    "ue.columns = ['date', 'ue_flows']\n",
    "ue['date'] = pd.to_datetime(ue['date'])"
   ]
  },
  {
   "cell_type": "code",
   "execution_count": 6,
   "id": "df443d8f",
   "metadata": {},
   "outputs": [],
   "source": [
    "data= stocks.merge(ue, on = ['date'])"
   ]
  },
  {
   "cell_type": "code",
   "execution_count": 7,
   "id": "a487278a",
   "metadata": {},
   "outputs": [],
   "source": [
    "data['job_finding_rate'] = data['ue_flows'] / data['U']"
   ]
  },
  {
   "cell_type": "code",
   "execution_count": 8,
   "id": "911126ea",
   "metadata": {},
   "outputs": [],
   "source": [
    "keep = ['date', 'job_finding_rate']\n",
    "data = data[keep]"
   ]
  },
  {
   "cell_type": "code",
   "execution_count": 9,
   "id": "adccc75f",
   "metadata": {},
   "outputs": [],
   "source": [
    "pre_period_data = data[(data['date'] >= '2016-01-01') & (data['date'] <= '2019-12-01')]\n",
    "pre_period_avg_jf_rate = pre_period_data['job_finding_rate'].mean()\n",
    "data['16_19_jf_avg'] = pre_period_avg_jf_rate"
   ]
  },
  {
   "cell_type": "code",
   "execution_count": 10,
   "id": "b42ef12a",
   "metadata": {},
   "outputs": [],
   "source": [
    "data.to_csv(f\"{output_dir}/data/ue_flows.csv\", index=False)"
   ]
  },
  {
   "cell_type": "code",
   "execution_count": null,
   "id": "fd96d928",
   "metadata": {},
   "outputs": [],
   "source": []
  }
 ],
 "metadata": {
  "kernelspec": {
   "display_name": "Python 3 (ipykernel)",
   "language": "python",
   "name": "python3"
  },
  "language_info": {
   "codemirror_mode": {
    "name": "ipython",
    "version": 3
   },
   "file_extension": ".py",
   "mimetype": "text/x-python",
   "name": "python",
   "nbconvert_exporter": "python",
   "pygments_lexer": "ipython3",
   "version": "3.10.9"
  }
 },
 "nbformat": 4,
 "nbformat_minor": 5
}
