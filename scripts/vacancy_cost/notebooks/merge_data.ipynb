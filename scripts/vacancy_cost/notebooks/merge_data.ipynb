{
 "cells": [
  {
   "cell_type": "code",
   "execution_count": 20,
   "id": "16245033",
   "metadata": {},
   "outputs": [],
   "source": [
    "# Yash Singh \n",
    "# Date: 11/12/24 \n",
    "# this data creates our dataset of monthly flows of hires, layoffs, and the end of month stock of vacancies. \n"
   ]
  },
  {
   "cell_type": "code",
   "execution_count": 21,
   "id": "c9813a9d",
   "metadata": {},
   "outputs": [],
   "source": [
    "import numpy as np \n",
    "import pandas as pd "
   ]
  },
  {
   "cell_type": "code",
   "execution_count": null,
   "id": "5ab51588",
   "metadata": {},
   "outputs": [],
   "source": []
  },
  {
   "cell_type": "code",
   "execution_count": 22,
   "id": "d38336d1",
   "metadata": {},
   "outputs": [],
   "source": [
    "# Specify directories \n",
    "data_dir = \"C:/Users/singhy/Desktop/Chicago/cps_data/inflation/raw_data\"\n",
    "output_dir = \"C:/Users/singhy/Desktop/Chicago/cps_data/inflation/output\"\n",
    " \n",
    "# jolts \n",
    "jolts = pd.read_excel(f\"{data_dir}/JOLTS/jolts_level.xls\", engine='xlrd')\n",
    "\n",
    "# Stock of Employed and Unemployed Workers \n",
    "stocks = pd.read_excel(f\"{data_dir}/fred_employment/employment.xls\", engine='xlrd')\n"
   ]
  },
  {
   "cell_type": "code",
   "execution_count": 23,
   "id": "069aa77e",
   "metadata": {},
   "outputs": [],
   "source": [
    "# JOLTS \n",
    "jolts.columns = ['date', 'tot_quits', 'vacancy_stock', 'tot_hires', 'tot_layoffs']\n",
    "jolts = jolts.iloc[13:].reset_index(drop=True)\n",
    "jolts['date'] = pd.to_datetime(jolts['date'])\n",
    "\n",
    "# Stocls - Basic Processing \n",
    "stocks.columns = ['date', 'E', 'U']\n",
    "stocks = stocks.iloc[11:].reset_index(drop=True)\n",
    "stocks = stocks.dropna(subset=['date', 'E', 'U'])\n",
    "stocks['date'] = pd.to_datetime(stocks['date'])\n",
    "stocks['U'] = stocks['U'].astype(float)"
   ]
  },
  {
   "cell_type": "code",
   "execution_count": 24,
   "id": "d28e1442",
   "metadata": {},
   "outputs": [],
   "source": [
    "final = stocks.merge(jolts, on = ['date'])"
   ]
  },
  {
   "cell_type": "code",
   "execution_count": 25,
   "id": "8c4827fb",
   "metadata": {},
   "outputs": [],
   "source": [
    "keep = ['date', 'E', 'U', 'vacancy_stock', 'tot_hires', 'tot_layoffs']\n",
    "final = final[keep]"
   ]
  },
  {
   "cell_type": "code",
   "execution_count": 26,
   "id": "e39193b8",
   "metadata": {},
   "outputs": [],
   "source": [
    "final.to_csv(f\"{output_dir}/data/dfh_estimation.csv\", index=False)"
   ]
  },
  {
   "cell_type": "code",
   "execution_count": null,
   "id": "bf2cbff5",
   "metadata": {},
   "outputs": [],
   "source": []
  }
 ],
 "metadata": {
  "kernelspec": {
   "display_name": "Python 3 (ipykernel)",
   "language": "python",
   "name": "python3"
  },
  "language_info": {
   "codemirror_mode": {
    "name": "ipython",
    "version": 3
   },
   "file_extension": ".py",
   "mimetype": "text/x-python",
   "name": "python",
   "nbconvert_exporter": "python",
   "pygments_lexer": "ipython3",
   "version": "3.10.9"
  }
 },
 "nbformat": 4,
 "nbformat_minor": 5
}
