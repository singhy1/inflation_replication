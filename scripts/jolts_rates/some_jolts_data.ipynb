{
 "cells": [
  {
   "cell_type": "markdown",
   "id": "6d75420c",
   "metadata": {},
   "source": [
    "# JOLTS RATES "
   ]
  },
  {
   "cell_type": "code",
   "execution_count": null,
   "id": "cdcf3944",
   "metadata": {},
   "outputs": [],
   "source": [
    "import pandas as pd \n",
    "import numpy as np"
   ]
  },
  {
   "cell_type": "code",
   "execution_count": 31,
   "id": "47f66937",
   "metadata": {},
   "outputs": [],
   "source": [
    "data_dir = \"C:/Users/singhy/Desktop/Chicago/cps_data/inflation/raw_data\"\n",
    "output_dir = \"C:/Users/singhy/Desktop/Chicago/cps_data/inflation/output\"\n",
    "df = pd.read_csv(f\"{data_dir}/JOLTS/jolts_rates_v2.csv\")"
   ]
  },
  {
   "cell_type": "code",
   "execution_count": 32,
   "id": "b58f81a8",
   "metadata": {},
   "outputs": [],
   "source": [
    "df = df.rename(columns={\n",
    "                            'observation_date': 'date', \n",
    "                            'JTSLDR':               'layoff_rate_jolts', \n",
    "                            'JTSQUR': 'quit_rate_jolts', \n",
    "                            'JTSJOR': 'vacancy_rate_jolts', \n",
    "})\n",
    "\n",
    "df['date'] = pd.to_datetime(df['date'])"
   ]
  },
  {
   "cell_type": "code",
   "execution_count": 33,
   "id": "0be029e7",
   "metadata": {},
   "outputs": [],
   "source": [
    "df.to_csv(f\"{output_dir}/data/jolts_rates.csv\", index = False)"
   ]
  },
  {
   "cell_type": "code",
   "execution_count": 35,
   "id": "dda7ccdd",
   "metadata": {},
   "outputs": [],
   "source": [
    "# Yash Singh \n",
    "# date: 11/11/2024 \n",
    "# this script creates processed data that will be used to make ue plot \n",
    "\n",
    "# Necessary Packages \n",
    "\n",
    "import numpy as np \n",
    "import pandas as pd \n",
    "\n",
    "# Specify directories \n",
    "data_dir = \"C:/Users/singhy/Desktop/Chicago/cps_data/inflation/raw_data\"\n",
    "output_dir = \"C:/Users/singhy/Desktop/Chicago/cps_data/inflation/output\"\n",
    "\n",
    "# Stock of Employed and Unemployed Workers \n",
    "#stocks = pd.read_excel(f\"{data_dir}/fred_employment/employment.xls\", engine='xlrd')\n",
    "\n",
    "stocks = pd.read_csv(f\"{data_dir}/fred_employment/employment_v2.csv\")\n",
    "\n",
    "# Basic Processing of stocks \n",
    "stocks.columns = ['date', 'E', 'U']\n",
    "stocks = stocks.iloc[11:].reset_index(drop=True)\n",
    "stocks = stocks.dropna(subset=['date', 'E', 'U'])\n",
    "stocks['date'] = pd.to_datetime(stocks['date'])\n",
    "stocks['U'] = stocks['U'].astype(float)\n",
    "\n",
    "ue = pd.read_csv(f\"{data_dir}/fred_flows/UE.csv\")\n",
    "ue.columns = ['date', 'ue_flows']\n",
    "ue['date'] = pd.to_datetime(ue['date'])\n",
    "\n",
    "data= stocks.merge(ue, on = ['date'])\n",
    "data['job_finding_rate'] = data['ue_flows'] / data['U']\n",
    "\n",
    "keep = ['date', 'job_finding_rate']\n",
    "data = data[keep]\n",
    "\n",
    "# Create 'date_quarterly' column\n",
    "data[\"date_quarterly\"] = data[\"date\"].dt.to_period(\"Q\").dt.start_time\n",
    "\n",
    "\n"
   ]
  },
  {
   "cell_type": "code",
   "execution_count": 37,
   "id": "90381dc7",
   "metadata": {},
   "outputs": [],
   "source": [
    "\n",
    "# Collapse to quarterly level by averaging 'ee_pol'\n",
    "df_quarterly = data.groupby(\"date_quarterly\", as_index=False)[\"job_finding_rate\"].mean()"
   ]
  },
  {
   "cell_type": "code",
   "execution_count": 38,
   "id": "06aaa69d",
   "metadata": {},
   "outputs": [
    {
     "data": {
      "text/html": [
       "<div>\n",
       "<style scoped>\n",
       "    .dataframe tbody tr th:only-of-type {\n",
       "        vertical-align: middle;\n",
       "    }\n",
       "\n",
       "    .dataframe tbody tr th {\n",
       "        vertical-align: top;\n",
       "    }\n",
       "\n",
       "    .dataframe thead th {\n",
       "        text-align: right;\n",
       "    }\n",
       "</style>\n",
       "<table border=\"1\" class=\"dataframe\">\n",
       "  <thead>\n",
       "    <tr style=\"text-align: right;\">\n",
       "      <th></th>\n",
       "      <th>date_quarterly</th>\n",
       "      <th>job_finding_rate</th>\n",
       "    </tr>\n",
       "  </thead>\n",
       "  <tbody>\n",
       "    <tr>\n",
       "      <th>0</th>\n",
       "      <td>1990-01-01</td>\n",
       "      <td>0.310613</td>\n",
       "    </tr>\n",
       "    <tr>\n",
       "      <th>1</th>\n",
       "      <td>1990-04-01</td>\n",
       "      <td>0.282176</td>\n",
       "    </tr>\n",
       "    <tr>\n",
       "      <th>2</th>\n",
       "      <td>1990-07-01</td>\n",
       "      <td>0.257316</td>\n",
       "    </tr>\n",
       "    <tr>\n",
       "      <th>3</th>\n",
       "      <td>1990-10-01</td>\n",
       "      <td>0.258283</td>\n",
       "    </tr>\n",
       "    <tr>\n",
       "      <th>4</th>\n",
       "      <td>1991-01-01</td>\n",
       "      <td>0.247417</td>\n",
       "    </tr>\n",
       "    <tr>\n",
       "      <th>...</th>\n",
       "      <td>...</td>\n",
       "      <td>...</td>\n",
       "    </tr>\n",
       "    <tr>\n",
       "      <th>135</th>\n",
       "      <td>2023-10-01</td>\n",
       "      <td>0.278606</td>\n",
       "    </tr>\n",
       "    <tr>\n",
       "      <th>136</th>\n",
       "      <td>2024-01-01</td>\n",
       "      <td>0.262611</td>\n",
       "    </tr>\n",
       "    <tr>\n",
       "      <th>137</th>\n",
       "      <td>2024-04-01</td>\n",
       "      <td>0.266530</td>\n",
       "    </tr>\n",
       "    <tr>\n",
       "      <th>138</th>\n",
       "      <td>2024-07-01</td>\n",
       "      <td>0.268940</td>\n",
       "    </tr>\n",
       "    <tr>\n",
       "      <th>139</th>\n",
       "      <td>2024-10-01</td>\n",
       "      <td>0.237534</td>\n",
       "    </tr>\n",
       "  </tbody>\n",
       "</table>\n",
       "<p>140 rows × 2 columns</p>\n",
       "</div>"
      ],
      "text/plain": [
       "    date_quarterly  job_finding_rate\n",
       "0       1990-01-01          0.310613\n",
       "1       1990-04-01          0.282176\n",
       "2       1990-07-01          0.257316\n",
       "3       1990-10-01          0.258283\n",
       "4       1991-01-01          0.247417\n",
       "..             ...               ...\n",
       "135     2023-10-01          0.278606\n",
       "136     2024-01-01          0.262611\n",
       "137     2024-04-01          0.266530\n",
       "138     2024-07-01          0.268940\n",
       "139     2024-10-01          0.237534\n",
       "\n",
       "[140 rows x 2 columns]"
      ]
     },
     "execution_count": 38,
     "metadata": {},
     "output_type": "execute_result"
    }
   ],
   "source": [
    "df_quarterly"
   ]
  },
  {
   "cell_type": "code",
   "execution_count": null,
   "id": "39482035",
   "metadata": {},
   "outputs": [],
   "source": []
  }
 ],
 "metadata": {
  "kernelspec": {
   "display_name": "Python 3 (ipykernel)",
   "language": "python",
   "name": "python3"
  },
  "language_info": {
   "codemirror_mode": {
    "name": "ipython",
    "version": 3
   },
   "file_extension": ".py",
   "mimetype": "text/x-python",
   "name": "python",
   "nbconvert_exporter": "python",
   "pygments_lexer": "ipython3",
   "version": "3.10.9"
  }
 },
 "nbformat": 4,
 "nbformat_minor": 5
}
